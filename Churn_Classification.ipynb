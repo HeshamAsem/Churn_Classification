{
 "cells": [
  {
   "cell_type": "markdown",
   "metadata": {},
   "source": [
    "# Churn Classification\n",
    "by : Hesham Asem\n",
    "\n",
    "this is a data set which contain several features , & we need to apply classification model , to be able to detect if the person exited or not\n",
    "\n",
    "here is the data : \n",
    "\n",
    "https://www.kaggle.com/mrtechnical011/classification-dataset\n",
    "\n",
    "\n",
    "\n",
    "so let's start importing needed libraries"
   ]
  },
  {
   "cell_type": "code",
   "execution_count": 1,
   "metadata": {},
   "outputs": [],
   "source": [
    "import numpy as np\n",
    "import pandas as pd\n",
    "import matplotlib.pyplot as plt\n",
    "%matplotlib inline\n",
    "import seaborn as sns\n",
    "sns.set(style=\"whitegrid\")\n",
    "from sklearn.preprocessing import LabelEncoder\n",
    "from sklearn.linear_model import LogisticRegression\n",
    "from sklearn.model_selection import train_test_split\n",
    "from sklearn.metrics import classification_report\n",
    "from sklearn.metrics import confusion_matrix\n",
    "from sklearn.naive_bayes import GaussianNB\n",
    "from sklearn.tree import DecisionTreeClassifier\n",
    "from sklearn.svm import SVC\n",
    "from sklearn.ensemble import RandomForestClassifier\n",
    "from sklearn.model_selection import GridSearchCV\n",
    "from sklearn.ensemble import GradientBoostingClassifier"
   ]
  },
  {
   "cell_type": "markdown",
   "metadata": {},
   "source": [
    "_____\n",
    "\n",
    "# Reading Data\n",
    "\n",
    "then read the data file"
   ]
  },
  {
   "cell_type": "code",
   "execution_count": 2,
   "metadata": {},
   "outputs": [
    {
     "data": {
      "text/html": [
       "<div>\n",
       "<style scoped>\n",
       "    .dataframe tbody tr th:only-of-type {\n",
       "        vertical-align: middle;\n",
       "    }\n",
       "\n",
       "    .dataframe tbody tr th {\n",
       "        vertical-align: top;\n",
       "    }\n",
       "\n",
       "    .dataframe thead th {\n",
       "        text-align: right;\n",
       "    }\n",
       "</style>\n",
       "<table border=\"1\" class=\"dataframe\">\n",
       "  <thead>\n",
       "    <tr style=\"text-align: right;\">\n",
       "      <th></th>\n",
       "      <th>RowNumber</th>\n",
       "      <th>CustomerId</th>\n",
       "      <th>Surname</th>\n",
       "      <th>CreditScore</th>\n",
       "      <th>Geography</th>\n",
       "      <th>Gender</th>\n",
       "      <th>Age</th>\n",
       "      <th>Tenure</th>\n",
       "      <th>Balance</th>\n",
       "      <th>NumOfProducts</th>\n",
       "      <th>HasCrCard</th>\n",
       "      <th>IsActiveMember</th>\n",
       "      <th>EstimatedSalary</th>\n",
       "      <th>Exited</th>\n",
       "    </tr>\n",
       "  </thead>\n",
       "  <tbody>\n",
       "    <tr>\n",
       "      <th>0</th>\n",
       "      <td>1</td>\n",
       "      <td>15634602</td>\n",
       "      <td>Hargrave</td>\n",
       "      <td>619</td>\n",
       "      <td>France</td>\n",
       "      <td>Female</td>\n",
       "      <td>42</td>\n",
       "      <td>2</td>\n",
       "      <td>0.00</td>\n",
       "      <td>1</td>\n",
       "      <td>1</td>\n",
       "      <td>1</td>\n",
       "      <td>101348.88</td>\n",
       "      <td>1</td>\n",
       "    </tr>\n",
       "    <tr>\n",
       "      <th>1</th>\n",
       "      <td>2</td>\n",
       "      <td>15647311</td>\n",
       "      <td>Hill</td>\n",
       "      <td>608</td>\n",
       "      <td>Spain</td>\n",
       "      <td>Female</td>\n",
       "      <td>41</td>\n",
       "      <td>1</td>\n",
       "      <td>83807.86</td>\n",
       "      <td>1</td>\n",
       "      <td>0</td>\n",
       "      <td>1</td>\n",
       "      <td>112542.58</td>\n",
       "      <td>0</td>\n",
       "    </tr>\n",
       "    <tr>\n",
       "      <th>2</th>\n",
       "      <td>3</td>\n",
       "      <td>15619304</td>\n",
       "      <td>Onio</td>\n",
       "      <td>502</td>\n",
       "      <td>France</td>\n",
       "      <td>Female</td>\n",
       "      <td>42</td>\n",
       "      <td>8</td>\n",
       "      <td>159660.80</td>\n",
       "      <td>3</td>\n",
       "      <td>1</td>\n",
       "      <td>0</td>\n",
       "      <td>113931.57</td>\n",
       "      <td>1</td>\n",
       "    </tr>\n",
       "    <tr>\n",
       "      <th>3</th>\n",
       "      <td>4</td>\n",
       "      <td>15701354</td>\n",
       "      <td>Boni</td>\n",
       "      <td>699</td>\n",
       "      <td>France</td>\n",
       "      <td>Female</td>\n",
       "      <td>39</td>\n",
       "      <td>1</td>\n",
       "      <td>0.00</td>\n",
       "      <td>2</td>\n",
       "      <td>0</td>\n",
       "      <td>0</td>\n",
       "      <td>93826.63</td>\n",
       "      <td>0</td>\n",
       "    </tr>\n",
       "    <tr>\n",
       "      <th>4</th>\n",
       "      <td>5</td>\n",
       "      <td>15737888</td>\n",
       "      <td>Mitchell</td>\n",
       "      <td>850</td>\n",
       "      <td>Spain</td>\n",
       "      <td>Female</td>\n",
       "      <td>43</td>\n",
       "      <td>2</td>\n",
       "      <td>125510.82</td>\n",
       "      <td>1</td>\n",
       "      <td>1</td>\n",
       "      <td>1</td>\n",
       "      <td>79084.10</td>\n",
       "      <td>0</td>\n",
       "    </tr>\n",
       "  </tbody>\n",
       "</table>\n",
       "</div>"
      ],
      "text/plain": [
       "   RowNumber  CustomerId   Surname  CreditScore Geography  Gender  Age  \\\n",
       "0          1    15634602  Hargrave          619    France  Female   42   \n",
       "1          2    15647311      Hill          608     Spain  Female   41   \n",
       "2          3    15619304      Onio          502    France  Female   42   \n",
       "3          4    15701354      Boni          699    France  Female   39   \n",
       "4          5    15737888  Mitchell          850     Spain  Female   43   \n",
       "\n",
       "   Tenure    Balance  NumOfProducts  HasCrCard  IsActiveMember  \\\n",
       "0       2       0.00              1          1               1   \n",
       "1       1   83807.86              1          0               1   \n",
       "2       8  159660.80              3          1               0   \n",
       "3       1       0.00              2          0               0   \n",
       "4       2  125510.82              1          1               1   \n",
       "\n",
       "   EstimatedSalary  Exited  \n",
       "0        101348.88       1  \n",
       "1        112542.58       0  \n",
       "2        113931.57       1  \n",
       "3         93826.63       0  \n",
       "4         79084.10       0  "
      ]
     },
     "execution_count": 2,
     "metadata": {},
     "output_type": "execute_result"
    }
   ],
   "source": [
    "data = pd.read_csv('Churn_Modelling.csv')\n",
    "data.head()"
   ]
  },
  {
   "cell_type": "markdown",
   "metadata": {},
   "source": [
    "what is the dimension "
   ]
  },
  {
   "cell_type": "code",
   "execution_count": 3,
   "metadata": {},
   "outputs": [
    {
     "data": {
      "text/plain": [
       "(10000, 14)"
      ]
     },
     "execution_count": 3,
     "metadata": {},
     "output_type": "execute_result"
    }
   ],
   "source": [
    "data.shape"
   ]
  },
  {
   "cell_type": "markdown",
   "metadata": {},
   "source": [
    "_____\n",
    "\n",
    "great , what is the type of values , & is there any nulls ? "
   ]
  },
  {
   "cell_type": "code",
   "execution_count": 4,
   "metadata": {},
   "outputs": [
    {
     "name": "stdout",
     "output_type": "stream",
     "text": [
      "<class 'pandas.core.frame.DataFrame'>\n",
      "RangeIndex: 10000 entries, 0 to 9999\n",
      "Data columns (total 14 columns):\n",
      "RowNumber          10000 non-null int64\n",
      "CustomerId         10000 non-null int64\n",
      "Surname            10000 non-null object\n",
      "CreditScore        10000 non-null int64\n",
      "Geography          10000 non-null object\n",
      "Gender             10000 non-null object\n",
      "Age                10000 non-null int64\n",
      "Tenure             10000 non-null int64\n",
      "Balance            10000 non-null float64\n",
      "NumOfProducts      10000 non-null int64\n",
      "HasCrCard          10000 non-null int64\n",
      "IsActiveMember     10000 non-null int64\n",
      "EstimatedSalary    10000 non-null float64\n",
      "Exited             10000 non-null int64\n",
      "dtypes: float64(2), int64(9), object(3)\n",
      "memory usage: 1.1+ MB\n"
     ]
    }
   ],
   "source": [
    "data.info()"
   ]
  },
  {
   "cell_type": "markdown",
   "metadata": {},
   "source": [
    "____\n",
    "\n",
    "looks clean data , also alkl features even numerical or categorical , so we don't have a mized data which need conversion \n",
    "\n",
    "ok , how about the details of it ? "
   ]
  },
  {
   "cell_type": "code",
   "execution_count": 5,
   "metadata": {},
   "outputs": [
    {
     "data": {
      "text/html": [
       "<div>\n",
       "<style scoped>\n",
       "    .dataframe tbody tr th:only-of-type {\n",
       "        vertical-align: middle;\n",
       "    }\n",
       "\n",
       "    .dataframe tbody tr th {\n",
       "        vertical-align: top;\n",
       "    }\n",
       "\n",
       "    .dataframe thead th {\n",
       "        text-align: right;\n",
       "    }\n",
       "</style>\n",
       "<table border=\"1\" class=\"dataframe\">\n",
       "  <thead>\n",
       "    <tr style=\"text-align: right;\">\n",
       "      <th></th>\n",
       "      <th>RowNumber</th>\n",
       "      <th>CustomerId</th>\n",
       "      <th>CreditScore</th>\n",
       "      <th>Age</th>\n",
       "      <th>Tenure</th>\n",
       "      <th>Balance</th>\n",
       "      <th>NumOfProducts</th>\n",
       "      <th>HasCrCard</th>\n",
       "      <th>IsActiveMember</th>\n",
       "      <th>EstimatedSalary</th>\n",
       "      <th>Exited</th>\n",
       "    </tr>\n",
       "  </thead>\n",
       "  <tbody>\n",
       "    <tr>\n",
       "      <th>count</th>\n",
       "      <td>10000.00000</td>\n",
       "      <td>1.000000e+04</td>\n",
       "      <td>10000.000000</td>\n",
       "      <td>10000.000000</td>\n",
       "      <td>10000.000000</td>\n",
       "      <td>10000.000000</td>\n",
       "      <td>10000.000000</td>\n",
       "      <td>10000.00000</td>\n",
       "      <td>10000.000000</td>\n",
       "      <td>10000.000000</td>\n",
       "      <td>10000.000000</td>\n",
       "    </tr>\n",
       "    <tr>\n",
       "      <th>mean</th>\n",
       "      <td>5000.50000</td>\n",
       "      <td>1.569094e+07</td>\n",
       "      <td>650.528800</td>\n",
       "      <td>38.921800</td>\n",
       "      <td>5.012800</td>\n",
       "      <td>76485.889288</td>\n",
       "      <td>1.530200</td>\n",
       "      <td>0.70550</td>\n",
       "      <td>0.515100</td>\n",
       "      <td>100090.239881</td>\n",
       "      <td>0.203700</td>\n",
       "    </tr>\n",
       "    <tr>\n",
       "      <th>std</th>\n",
       "      <td>2886.89568</td>\n",
       "      <td>7.193619e+04</td>\n",
       "      <td>96.653299</td>\n",
       "      <td>10.487806</td>\n",
       "      <td>2.892174</td>\n",
       "      <td>62397.405202</td>\n",
       "      <td>0.581654</td>\n",
       "      <td>0.45584</td>\n",
       "      <td>0.499797</td>\n",
       "      <td>57510.492818</td>\n",
       "      <td>0.402769</td>\n",
       "    </tr>\n",
       "    <tr>\n",
       "      <th>min</th>\n",
       "      <td>1.00000</td>\n",
       "      <td>1.556570e+07</td>\n",
       "      <td>350.000000</td>\n",
       "      <td>18.000000</td>\n",
       "      <td>0.000000</td>\n",
       "      <td>0.000000</td>\n",
       "      <td>1.000000</td>\n",
       "      <td>0.00000</td>\n",
       "      <td>0.000000</td>\n",
       "      <td>11.580000</td>\n",
       "      <td>0.000000</td>\n",
       "    </tr>\n",
       "    <tr>\n",
       "      <th>25%</th>\n",
       "      <td>2500.75000</td>\n",
       "      <td>1.562853e+07</td>\n",
       "      <td>584.000000</td>\n",
       "      <td>32.000000</td>\n",
       "      <td>3.000000</td>\n",
       "      <td>0.000000</td>\n",
       "      <td>1.000000</td>\n",
       "      <td>0.00000</td>\n",
       "      <td>0.000000</td>\n",
       "      <td>51002.110000</td>\n",
       "      <td>0.000000</td>\n",
       "    </tr>\n",
       "    <tr>\n",
       "      <th>50%</th>\n",
       "      <td>5000.50000</td>\n",
       "      <td>1.569074e+07</td>\n",
       "      <td>652.000000</td>\n",
       "      <td>37.000000</td>\n",
       "      <td>5.000000</td>\n",
       "      <td>97198.540000</td>\n",
       "      <td>1.000000</td>\n",
       "      <td>1.00000</td>\n",
       "      <td>1.000000</td>\n",
       "      <td>100193.915000</td>\n",
       "      <td>0.000000</td>\n",
       "    </tr>\n",
       "    <tr>\n",
       "      <th>75%</th>\n",
       "      <td>7500.25000</td>\n",
       "      <td>1.575323e+07</td>\n",
       "      <td>718.000000</td>\n",
       "      <td>44.000000</td>\n",
       "      <td>7.000000</td>\n",
       "      <td>127644.240000</td>\n",
       "      <td>2.000000</td>\n",
       "      <td>1.00000</td>\n",
       "      <td>1.000000</td>\n",
       "      <td>149388.247500</td>\n",
       "      <td>0.000000</td>\n",
       "    </tr>\n",
       "    <tr>\n",
       "      <th>max</th>\n",
       "      <td>10000.00000</td>\n",
       "      <td>1.581569e+07</td>\n",
       "      <td>850.000000</td>\n",
       "      <td>92.000000</td>\n",
       "      <td>10.000000</td>\n",
       "      <td>250898.090000</td>\n",
       "      <td>4.000000</td>\n",
       "      <td>1.00000</td>\n",
       "      <td>1.000000</td>\n",
       "      <td>199992.480000</td>\n",
       "      <td>1.000000</td>\n",
       "    </tr>\n",
       "  </tbody>\n",
       "</table>\n",
       "</div>"
      ],
      "text/plain": [
       "         RowNumber    CustomerId   CreditScore           Age        Tenure  \\\n",
       "count  10000.00000  1.000000e+04  10000.000000  10000.000000  10000.000000   \n",
       "mean    5000.50000  1.569094e+07    650.528800     38.921800      5.012800   \n",
       "std     2886.89568  7.193619e+04     96.653299     10.487806      2.892174   \n",
       "min        1.00000  1.556570e+07    350.000000     18.000000      0.000000   \n",
       "25%     2500.75000  1.562853e+07    584.000000     32.000000      3.000000   \n",
       "50%     5000.50000  1.569074e+07    652.000000     37.000000      5.000000   \n",
       "75%     7500.25000  1.575323e+07    718.000000     44.000000      7.000000   \n",
       "max    10000.00000  1.581569e+07    850.000000     92.000000     10.000000   \n",
       "\n",
       "             Balance  NumOfProducts    HasCrCard  IsActiveMember  \\\n",
       "count   10000.000000   10000.000000  10000.00000    10000.000000   \n",
       "mean    76485.889288       1.530200      0.70550        0.515100   \n",
       "std     62397.405202       0.581654      0.45584        0.499797   \n",
       "min         0.000000       1.000000      0.00000        0.000000   \n",
       "25%         0.000000       1.000000      0.00000        0.000000   \n",
       "50%     97198.540000       1.000000      1.00000        1.000000   \n",
       "75%    127644.240000       2.000000      1.00000        1.000000   \n",
       "max    250898.090000       4.000000      1.00000        1.000000   \n",
       "\n",
       "       EstimatedSalary        Exited  \n",
       "count     10000.000000  10000.000000  \n",
       "mean     100090.239881      0.203700  \n",
       "std       57510.492818      0.402769  \n",
       "min          11.580000      0.000000  \n",
       "25%       51002.110000      0.000000  \n",
       "50%      100193.915000      0.000000  \n",
       "75%      149388.247500      0.000000  \n",
       "max      199992.480000      1.000000  "
      ]
     },
     "execution_count": 5,
     "metadata": {},
     "output_type": "execute_result"
    }
   ],
   "source": [
    "data.describe()"
   ]
  },
  {
   "cell_type": "markdown",
   "metadata": {},
   "source": [
    "____\n",
    "\n",
    "\n",
    "# Unique Values \n",
    "\n",
    "ok we can notice that row number is just a series of number , so it'll not be helpful for training , so we'll drop it later \n",
    "\n",
    "also we can notice a binary values (just ones & zeros) at HasCrCard , IsActiveMember , and ofcourse the output Exited\n",
    "\n",
    "we need to look to the unique values of each feature , and this can be easily done here "
   ]
  },
  {
   "cell_type": "code",
   "execution_count": 6,
   "metadata": {},
   "outputs": [
    {
     "name": "stdout",
     "output_type": "stream",
     "text": [
      "Number of unique data for RowNumber is 10000\n",
      "unique data for RowNumber is [    1     2     3 ...  9998  9999 10000]\n",
      "=====================================\n",
      "Number of unique data for CustomerId is 10000\n",
      "unique data for CustomerId is [15634602 15647311 15619304 ... 15584532 15682355 15628319]\n",
      "=====================================\n",
      "Number of unique data for Surname is 2932\n",
      "unique data for Surname is ['Hargrave' 'Hill' 'Onio' ... 'Kashiwagi' 'Aldridge' 'Burbidge']\n",
      "=====================================\n",
      "Number of unique data for CreditScore is 460\n",
      "unique data for CreditScore is [619 608 502 699 850 645 822 376 501 684 528 497 476 549 635 616 653 587\n",
      " 726 732 636 510 669 846 577 756 571 574 411 591 533 553 520 722 475 490\n",
      " 804 582 472 465 556 834 660 776 829 637 550 698 585 788 655 601 656 725\n",
      " 511 614 742 687 555 603 751 581 735 661 675 738 813 657 604 519 664 678\n",
      " 757 416 665 777 543 506 493 652 750 729 646 647 808 524 769 730 515 773\n",
      " 814 710 413 623 670 622 785 605 479 685 538 562 721 628 668 828 674 625\n",
      " 432 770 758 795 686 789 589 461 584 579 663 682 793 691 485 650 754 535\n",
      " 716 539 706 586 631 717 800 683 704 615 667 484 480 578 512 606 597 778\n",
      " 514 525 715 580 807 521 759 516 711 618 643 671 689 620 676 572 695 592\n",
      " 567 694 547 594 673 610 767 763 712 703 662 659 523 772 545 634 739 771\n",
      " 681 544 696 766 727 693 557 531 498 651 791 733 811 707 714 782 775 799\n",
      " 602 744 588 747 583 627 731 629 438 642 806 474 559 429 680 749 734 644\n",
      " 626 649 805 718 840 630 654 762 568 613 522 737 648 443 640 540 460 593\n",
      " 801 611 802 745 483 690 492 709 705 560 752 701 537 487 596 702 486 724\n",
      " 548 464 790 534 748 494 590 468 509 818 816 536 753 774 621 569 658 798\n",
      " 641 542 692 639 765 570 638 599 632 779 527 564 833 504 842 508 417 598\n",
      " 741 607 761 848 546 439 755 760 526 713 700 666 566 495 688 612 477 427\n",
      " 839 819 720 459 503 624 529 563 482 796 445 746 786 554 672 787 499 844\n",
      " 450 815 838 803 736 633 600 679 517 792 743 488 421 841 708 507 505 456\n",
      " 435 561 518 565 728 784 552 609 764 697 723 551 444 719 496 541 830 812\n",
      " 677 420 595 617 809 500 826 434 513 478 797 363 399 463 780 452 575 837\n",
      " 794 824 428 823 781 849 489 431 457 768 831 359 820 573 576 558 817 449\n",
      " 440 415 821 530 350 446 425 740 481 783 358 845 451 458 469 423 404 836\n",
      " 473 835 466 491 351 827 843 365 532 414 453 471 401 810 832 470 447 422\n",
      " 825 430 436 426 408 847 418 437 410 454 407 455 462 386 405 383 395 467\n",
      " 433 442 424 448 441 367 412 382 373 419]\n",
      "=====================================\n",
      "Number of unique data for Geography is 3\n",
      "unique data for Geography is ['France' 'Spain' 'Germany']\n",
      "=====================================\n",
      "Number of unique data for Gender is 2\n",
      "unique data for Gender is ['Female' 'Male']\n",
      "=====================================\n",
      "Number of unique data for Age is 70\n",
      "unique data for Age is [42 41 39 43 44 50 29 27 31 24 34 25 35 45 58 32 38 46 36 33 40 51 61 49\n",
      " 37 19 66 56 26 21 55 75 22 30 28 65 48 52 57 73 47 54 72 20 67 79 62 53\n",
      " 80 59 68 23 60 70 63 64 18 82 69 74 71 76 77 88 85 84 78 81 92 83]\n",
      "=====================================\n",
      "Number of unique data for Tenure is 11\n",
      "unique data for Tenure is [ 2  1  8  7  4  6  3 10  5  9  0]\n",
      "=====================================\n",
      "Number of unique data for Balance is 6382\n",
      "unique data for Balance is [     0.    83807.86 159660.8  ...  57369.61  75075.31 130142.79]\n",
      "=====================================\n",
      "Number of unique data for NumOfProducts is 4\n",
      "unique data for NumOfProducts is [1 3 2 4]\n",
      "=====================================\n",
      "Number of unique data for HasCrCard is 2\n",
      "unique data for HasCrCard is [1 0]\n",
      "=====================================\n",
      "Number of unique data for IsActiveMember is 2\n",
      "unique data for IsActiveMember is [1 0]\n",
      "=====================================\n",
      "Number of unique data for EstimatedSalary is 9999\n",
      "unique data for EstimatedSalary is [101348.88 112542.58 113931.57 ...  42085.58  92888.52  38190.78]\n",
      "=====================================\n",
      "Number of unique data for Exited is 2\n",
      "unique data for Exited is [1 0]\n",
      "=====================================\n"
     ]
    }
   ],
   "source": [
    "for column in data.columns : \n",
    "    print('Number of unique data for {0} is {1}'.format(column , len(data[column].unique())))\n",
    "    print('unique data for {0} is {1}'.format(column , data[column].unique()))\n",
    "    print('=====================================')"
   ]
  },
  {
   "cell_type": "markdown",
   "metadata": {},
   "source": [
    "____\n",
    "\n",
    "so it's clear that we'll not use ('RowNumber', 'CustomerId', 'Surname') , since they will help us with nothing in trainging the model , let's drop them \n"
   ]
  },
  {
   "cell_type": "code",
   "execution_count": 7,
   "metadata": {},
   "outputs": [],
   "source": [
    "data.drop(['RowNumber', 'CustomerId', 'Surname' ], axis=1, inplace=True)"
   ]
  },
  {
   "cell_type": "markdown",
   "metadata": {},
   "source": [
    "now how data looks like ? "
   ]
  },
  {
   "cell_type": "code",
   "execution_count": 8,
   "metadata": {},
   "outputs": [
    {
     "data": {
      "text/html": [
       "<div>\n",
       "<style scoped>\n",
       "    .dataframe tbody tr th:only-of-type {\n",
       "        vertical-align: middle;\n",
       "    }\n",
       "\n",
       "    .dataframe tbody tr th {\n",
       "        vertical-align: top;\n",
       "    }\n",
       "\n",
       "    .dataframe thead th {\n",
       "        text-align: right;\n",
       "    }\n",
       "</style>\n",
       "<table border=\"1\" class=\"dataframe\">\n",
       "  <thead>\n",
       "    <tr style=\"text-align: right;\">\n",
       "      <th></th>\n",
       "      <th>CreditScore</th>\n",
       "      <th>Geography</th>\n",
       "      <th>Gender</th>\n",
       "      <th>Age</th>\n",
       "      <th>Tenure</th>\n",
       "      <th>Balance</th>\n",
       "      <th>NumOfProducts</th>\n",
       "      <th>HasCrCard</th>\n",
       "      <th>IsActiveMember</th>\n",
       "      <th>EstimatedSalary</th>\n",
       "      <th>Exited</th>\n",
       "    </tr>\n",
       "  </thead>\n",
       "  <tbody>\n",
       "    <tr>\n",
       "      <th>0</th>\n",
       "      <td>619</td>\n",
       "      <td>France</td>\n",
       "      <td>Female</td>\n",
       "      <td>42</td>\n",
       "      <td>2</td>\n",
       "      <td>0.00</td>\n",
       "      <td>1</td>\n",
       "      <td>1</td>\n",
       "      <td>1</td>\n",
       "      <td>101348.88</td>\n",
       "      <td>1</td>\n",
       "    </tr>\n",
       "    <tr>\n",
       "      <th>1</th>\n",
       "      <td>608</td>\n",
       "      <td>Spain</td>\n",
       "      <td>Female</td>\n",
       "      <td>41</td>\n",
       "      <td>1</td>\n",
       "      <td>83807.86</td>\n",
       "      <td>1</td>\n",
       "      <td>0</td>\n",
       "      <td>1</td>\n",
       "      <td>112542.58</td>\n",
       "      <td>0</td>\n",
       "    </tr>\n",
       "    <tr>\n",
       "      <th>2</th>\n",
       "      <td>502</td>\n",
       "      <td>France</td>\n",
       "      <td>Female</td>\n",
       "      <td>42</td>\n",
       "      <td>8</td>\n",
       "      <td>159660.80</td>\n",
       "      <td>3</td>\n",
       "      <td>1</td>\n",
       "      <td>0</td>\n",
       "      <td>113931.57</td>\n",
       "      <td>1</td>\n",
       "    </tr>\n",
       "    <tr>\n",
       "      <th>3</th>\n",
       "      <td>699</td>\n",
       "      <td>France</td>\n",
       "      <td>Female</td>\n",
       "      <td>39</td>\n",
       "      <td>1</td>\n",
       "      <td>0.00</td>\n",
       "      <td>2</td>\n",
       "      <td>0</td>\n",
       "      <td>0</td>\n",
       "      <td>93826.63</td>\n",
       "      <td>0</td>\n",
       "    </tr>\n",
       "    <tr>\n",
       "      <th>4</th>\n",
       "      <td>850</td>\n",
       "      <td>Spain</td>\n",
       "      <td>Female</td>\n",
       "      <td>43</td>\n",
       "      <td>2</td>\n",
       "      <td>125510.82</td>\n",
       "      <td>1</td>\n",
       "      <td>1</td>\n",
       "      <td>1</td>\n",
       "      <td>79084.10</td>\n",
       "      <td>0</td>\n",
       "    </tr>\n",
       "  </tbody>\n",
       "</table>\n",
       "</div>"
      ],
      "text/plain": [
       "   CreditScore Geography  Gender  Age  Tenure    Balance  NumOfProducts  \\\n",
       "0          619    France  Female   42       2       0.00              1   \n",
       "1          608     Spain  Female   41       1   83807.86              1   \n",
       "2          502    France  Female   42       8  159660.80              3   \n",
       "3          699    France  Female   39       1       0.00              2   \n",
       "4          850     Spain  Female   43       2  125510.82              1   \n",
       "\n",
       "   HasCrCard  IsActiveMember  EstimatedSalary  Exited  \n",
       "0          1               1        101348.88       1  \n",
       "1          0               1        112542.58       0  \n",
       "2          1               0        113931.57       1  \n",
       "3          0               0         93826.63       0  \n",
       "4          1               1         79084.10       0  "
      ]
     },
     "execution_count": 8,
     "metadata": {},
     "output_type": "execute_result"
    }
   ],
   "source": [
    "data.head()"
   ]
  },
  {
   "cell_type": "markdown",
   "metadata": {},
   "source": [
    "we need to have another look to the unique values of features "
   ]
  },
  {
   "cell_type": "code",
   "execution_count": 9,
   "metadata": {},
   "outputs": [
    {
     "name": "stdout",
     "output_type": "stream",
     "text": [
      "Number of unique data for CreditScore is 460\n",
      "unique data for CreditScore is [619 608 502 699 850 645 822 376 501 684 528 497 476 549 635 616 653 587\n",
      " 726 732 636 510 669 846 577 756 571 574 411 591 533 553 520 722 475 490\n",
      " 804 582 472 465 556 834 660 776 829 637 550 698 585 788 655 601 656 725\n",
      " 511 614 742 687 555 603 751 581 735 661 675 738 813 657 604 519 664 678\n",
      " 757 416 665 777 543 506 493 652 750 729 646 647 808 524 769 730 515 773\n",
      " 814 710 413 623 670 622 785 605 479 685 538 562 721 628 668 828 674 625\n",
      " 432 770 758 795 686 789 589 461 584 579 663 682 793 691 485 650 754 535\n",
      " 716 539 706 586 631 717 800 683 704 615 667 484 480 578 512 606 597 778\n",
      " 514 525 715 580 807 521 759 516 711 618 643 671 689 620 676 572 695 592\n",
      " 567 694 547 594 673 610 767 763 712 703 662 659 523 772 545 634 739 771\n",
      " 681 544 696 766 727 693 557 531 498 651 791 733 811 707 714 782 775 799\n",
      " 602 744 588 747 583 627 731 629 438 642 806 474 559 429 680 749 734 644\n",
      " 626 649 805 718 840 630 654 762 568 613 522 737 648 443 640 540 460 593\n",
      " 801 611 802 745 483 690 492 709 705 560 752 701 537 487 596 702 486 724\n",
      " 548 464 790 534 748 494 590 468 509 818 816 536 753 774 621 569 658 798\n",
      " 641 542 692 639 765 570 638 599 632 779 527 564 833 504 842 508 417 598\n",
      " 741 607 761 848 546 439 755 760 526 713 700 666 566 495 688 612 477 427\n",
      " 839 819 720 459 503 624 529 563 482 796 445 746 786 554 672 787 499 844\n",
      " 450 815 838 803 736 633 600 679 517 792 743 488 421 841 708 507 505 456\n",
      " 435 561 518 565 728 784 552 609 764 697 723 551 444 719 496 541 830 812\n",
      " 677 420 595 617 809 500 826 434 513 478 797 363 399 463 780 452 575 837\n",
      " 794 824 428 823 781 849 489 431 457 768 831 359 820 573 576 558 817 449\n",
      " 440 415 821 530 350 446 425 740 481 783 358 845 451 458 469 423 404 836\n",
      " 473 835 466 491 351 827 843 365 532 414 453 471 401 810 832 470 447 422\n",
      " 825 430 436 426 408 847 418 437 410 454 407 455 462 386 405 383 395 467\n",
      " 433 442 424 448 441 367 412 382 373 419]\n",
      "=====================================\n",
      "Number of unique data for Geography is 3\n",
      "unique data for Geography is ['France' 'Spain' 'Germany']\n",
      "=====================================\n",
      "Number of unique data for Gender is 2\n",
      "unique data for Gender is ['Female' 'Male']\n",
      "=====================================\n",
      "Number of unique data for Age is 70\n",
      "unique data for Age is [42 41 39 43 44 50 29 27 31 24 34 25 35 45 58 32 38 46 36 33 40 51 61 49\n",
      " 37 19 66 56 26 21 55 75 22 30 28 65 48 52 57 73 47 54 72 20 67 79 62 53\n",
      " 80 59 68 23 60 70 63 64 18 82 69 74 71 76 77 88 85 84 78 81 92 83]\n",
      "=====================================\n",
      "Number of unique data for Tenure is 11\n",
      "unique data for Tenure is [ 2  1  8  7  4  6  3 10  5  9  0]\n",
      "=====================================\n",
      "Number of unique data for Balance is 6382\n",
      "unique data for Balance is [     0.    83807.86 159660.8  ...  57369.61  75075.31 130142.79]\n",
      "=====================================\n",
      "Number of unique data for NumOfProducts is 4\n",
      "unique data for NumOfProducts is [1 3 2 4]\n",
      "=====================================\n",
      "Number of unique data for HasCrCard is 2\n",
      "unique data for HasCrCard is [1 0]\n",
      "=====================================\n",
      "Number of unique data for IsActiveMember is 2\n",
      "unique data for IsActiveMember is [1 0]\n",
      "=====================================\n",
      "Number of unique data for EstimatedSalary is 9999\n",
      "unique data for EstimatedSalary is [101348.88 112542.58 113931.57 ...  42085.58  92888.52  38190.78]\n",
      "=====================================\n",
      "Number of unique data for Exited is 2\n",
      "unique data for Exited is [1 0]\n",
      "=====================================\n"
     ]
    }
   ],
   "source": [
    "for column in data.columns : \n",
    "    print('Number of unique data for {0} is {1}'.format(column , len(data[column].unique())))\n",
    "    print('unique data for {0} is {1}'.format(column , data[column].unique()))\n",
    "    print('=====================================')"
   ]
  },
  {
   "cell_type": "markdown",
   "metadata": {},
   "source": [
    "____\n",
    "\n",
    "\n",
    "# Needed Functions\n",
    "\n",
    "so before we handle the dummies values for categrocial features , let's first build an important functions that we'll need , to know the relationship & the correlations between features & each other\n",
    "\n",
    "_____\n",
    "\n",
    "first a function to make pie chart depend on the the value counts & their index\n",
    "\n"
   ]
  },
  {
   "cell_type": "code",
   "execution_count": 10,
   "metadata": {},
   "outputs": [],
   "source": [
    "def make_pie(feature) : \n",
    "    plt.pie(data[feature].value_counts(),labels=list(data[feature].value_counts().index),\n",
    "        autopct ='%1.2f%%' , labeldistance = 1.1,explode = [0.05 for i in range(len(data[feature].value_counts()))] )\n",
    "    plt.show()"
   ]
  },
  {
   "cell_type": "markdown",
   "metadata": {},
   "source": [
    "then a function for making countplot using seaborn"
   ]
  },
  {
   "cell_type": "code",
   "execution_count": 11,
   "metadata": {},
   "outputs": [],
   "source": [
    "def make_countplot(feature) :\n",
    "    sns.countplot(x=feature, data=data,facecolor=(0, 0, 0, 0),linewidth=5,edgecolor=sns.color_palette(\"prism\", 3)) "
   ]
  },
  {
   "cell_type": "markdown",
   "metadata": {},
   "source": [
    "another one for kdeplot also using seaborn"
   ]
  },
  {
   "cell_type": "code",
   "execution_count": 12,
   "metadata": {},
   "outputs": [],
   "source": [
    "def make_kdeplot(feature) : \n",
    "    sns.kdeplot(data[feature], shade=True)"
   ]
  },
  {
   "cell_type": "markdown",
   "metadata": {},
   "source": [
    "also we'll need this function to divide some features into few segmentations"
   ]
  },
  {
   "cell_type": "code",
   "execution_count": 13,
   "metadata": {},
   "outputs": [],
   "source": [
    "def divide_feature(feature,n):\n",
    "    return round((data[feature]- data[feature].min())/n)"
   ]
  },
  {
   "cell_type": "markdown",
   "metadata": {},
   "source": [
    "also for making dummies for categorical features , using LabelEncoder from sklearn"
   ]
  },
  {
   "cell_type": "code",
   "execution_count": 14,
   "metadata": {},
   "outputs": [],
   "source": [
    "def make_label_encoder(original_feature , new_feature) : \n",
    "    enc  = LabelEncoder()\n",
    "    enc.fit(data[original_feature])\n",
    "    data[new_feature] = enc.transform(data[original_feature])\n",
    "    data.drop([original_feature],axis=1, inplace=True)"
   ]
  },
  {
   "cell_type": "markdown",
   "metadata": {},
   "source": [
    "also , we'll need to make standardization for each feature here"
   ]
  },
  {
   "cell_type": "code",
   "execution_count": 15,
   "metadata": {},
   "outputs": [],
   "source": [
    "def make_standardization(feature) : \n",
    "    data[feature] =  (data[feature] - data[feature].mean()) / (data[feature].max() - data[feature].min())"
   ]
  },
  {
   "cell_type": "markdown",
   "metadata": {},
   "source": [
    "and at last to make a classification report using its class from sklearn"
   ]
  },
  {
   "cell_type": "code",
   "execution_count": 16,
   "metadata": {},
   "outputs": [],
   "source": [
    "def make_report() : \n",
    "    print(classification_report(y_test,y_pred))\n",
    "    print('************************************')\n",
    "    CM = confusion_matrix(y_test, y_pred)\n",
    "    print('Confusion Matrix is : \\n', CM)\n",
    "    print('************************************')\n",
    "    sns.heatmap(CM, center = True)\n",
    "    plt.show()"
   ]
  },
  {
   "cell_type": "markdown",
   "metadata": {},
   "source": [
    "____\n",
    "\n",
    "# Data Correlations\n",
    "\n",
    "now let's use these functions . to show everything we need in features \n",
    "\n",
    "let's start with countplotting the output , to know how many people are exited & how many are not"
   ]
  },
  {
   "cell_type": "code",
   "execution_count": 17,
   "metadata": {},
   "outputs": [
    {
     "data": {
      "image/png": "[encoded data removed]",
      "text/plain": [
       "<Figure size 432x288 with 1 Axes>"
      ]
     },
     "metadata": {
      "needs_background": "light"
     },
     "output_type": "display_data"
    }
   ],
   "source": [
    "make_countplot(\"Exited\")"
   ]
  },
  {
   "cell_type": "markdown",
   "metadata": {},
   "source": [
    "ok , about 20 % , which is enough data for training both types\n",
    "\n",
    "now when we move to the creditscore features , how many unique values it contain ? "
   ]
  },
  {
   "cell_type": "code",
   "execution_count": 18,
   "metadata": {},
   "outputs": [
    {
     "data": {
      "text/plain": [
       "460"
      ]
     },
     "execution_count": 18,
     "metadata": {},
     "output_type": "execute_result"
    }
   ],
   "source": [
    "len(data['CreditScore'].unique())"
   ]
  },
  {
   "cell_type": "markdown",
   "metadata": {},
   "source": [
    "it's a big a mount which will not enable us to plot it easily , since it's numerical values so we can use them in training , but we need to divide it now into segmentaion to have a look to it , let's use this function "
   ]
  },
  {
   "cell_type": "code",
   "execution_count": 19,
   "metadata": {},
   "outputs": [],
   "source": [
    "data['temp'] = divide_feature('CreditScore',100)"
   ]
  },
  {
   "cell_type": "markdown",
   "metadata": {},
   "source": [
    "let's see it in the data"
   ]
  },
  {
   "cell_type": "code",
   "execution_count": 20,
   "metadata": {},
   "outputs": [
    {
     "data": {
      "text/html": [
       "<div>\n",
       "<style scoped>\n",
       "    .dataframe tbody tr th:only-of-type {\n",
       "        vertical-align: middle;\n",
       "    }\n",
       "\n",
       "    .dataframe tbody tr th {\n",
       "        vertical-align: top;\n",
       "    }\n",
       "\n",
       "    .dataframe thead th {\n",
       "        text-align: right;\n",
       "    }\n",
       "</style>\n",
       "<table border=\"1\" class=\"dataframe\">\n",
       "  <thead>\n",
       "    <tr style=\"text-align: right;\">\n",
       "      <th></th>\n",
       "      <th>CreditScore</th>\n",
       "      <th>Geography</th>\n",
       "      <th>Gender</th>\n",
       "      <th>Age</th>\n",
       "      <th>Tenure</th>\n",
       "      <th>Balance</th>\n",
       "      <th>NumOfProducts</th>\n",
       "      <th>HasCrCard</th>\n",
       "      <th>IsActiveMember</th>\n",
       "      <th>EstimatedSalary</th>\n",
       "      <th>Exited</th>\n",
       "      <th>temp</th>\n",
       "    </tr>\n",
       "  </thead>\n",
       "  <tbody>\n",
       "    <tr>\n",
       "      <th>0</th>\n",
       "      <td>619</td>\n",
       "      <td>France</td>\n",
       "      <td>Female</td>\n",
       "      <td>42</td>\n",
       "      <td>2</td>\n",
       "      <td>0.00</td>\n",
       "      <td>1</td>\n",
       "      <td>1</td>\n",
       "      <td>1</td>\n",
       "      <td>101348.88</td>\n",
       "      <td>1</td>\n",
       "      <td>3.0</td>\n",
       "    </tr>\n",
       "    <tr>\n",
       "      <th>1</th>\n",
       "      <td>608</td>\n",
       "      <td>Spain</td>\n",
       "      <td>Female</td>\n",
       "      <td>41</td>\n",
       "      <td>1</td>\n",
       "      <td>83807.86</td>\n",
       "      <td>1</td>\n",
       "      <td>0</td>\n",
       "      <td>1</td>\n",
       "      <td>112542.58</td>\n",
       "      <td>0</td>\n",
       "      <td>3.0</td>\n",
       "    </tr>\n",
       "    <tr>\n",
       "      <th>2</th>\n",
       "      <td>502</td>\n",
       "      <td>France</td>\n",
       "      <td>Female</td>\n",
       "      <td>42</td>\n",
       "      <td>8</td>\n",
       "      <td>159660.80</td>\n",
       "      <td>3</td>\n",
       "      <td>1</td>\n",
       "      <td>0</td>\n",
       "      <td>113931.57</td>\n",
       "      <td>1</td>\n",
       "      <td>2.0</td>\n",
       "    </tr>\n",
       "    <tr>\n",
       "      <th>3</th>\n",
       "      <td>699</td>\n",
       "      <td>France</td>\n",
       "      <td>Female</td>\n",
       "      <td>39</td>\n",
       "      <td>1</td>\n",
       "      <td>0.00</td>\n",
       "      <td>2</td>\n",
       "      <td>0</td>\n",
       "      <td>0</td>\n",
       "      <td>93826.63</td>\n",
       "      <td>0</td>\n",
       "      <td>3.0</td>\n",
       "    </tr>\n",
       "    <tr>\n",
       "      <th>4</th>\n",
       "      <td>850</td>\n",
       "      <td>Spain</td>\n",
       "      <td>Female</td>\n",
       "      <td>43</td>\n",
       "      <td>2</td>\n",
       "      <td>125510.82</td>\n",
       "      <td>1</td>\n",
       "      <td>1</td>\n",
       "      <td>1</td>\n",
       "      <td>79084.10</td>\n",
       "      <td>0</td>\n",
       "      <td>5.0</td>\n",
       "    </tr>\n",
       "  </tbody>\n",
       "</table>\n",
       "</div>"
      ],
      "text/plain": [
       "   CreditScore Geography  Gender  Age  Tenure    Balance  NumOfProducts  \\\n",
       "0          619    France  Female   42       2       0.00              1   \n",
       "1          608     Spain  Female   41       1   83807.86              1   \n",
       "2          502    France  Female   42       8  159660.80              3   \n",
       "3          699    France  Female   39       1       0.00              2   \n",
       "4          850     Spain  Female   43       2  125510.82              1   \n",
       "\n",
       "   HasCrCard  IsActiveMember  EstimatedSalary  Exited  temp  \n",
       "0          1               1        101348.88       1   3.0  \n",
       "1          0               1        112542.58       0   3.0  \n",
       "2          1               0        113931.57       1   2.0  \n",
       "3          0               0         93826.63       0   3.0  \n",
       "4          1               1         79084.10       0   5.0  "
      ]
     },
     "execution_count": 20,
     "metadata": {},
     "output_type": "execute_result"
    }
   ],
   "source": [
    "data.head()"
   ]
  },
  {
   "cell_type": "markdown",
   "metadata": {},
   "source": [
    "now we can know the countplot for each segmentation"
   ]
  },
  {
   "cell_type": "code",
   "execution_count": 21,
   "metadata": {},
   "outputs": [
    {
     "data": {
      "image/png": "[encoded data removed]",
      "text/plain": [
       "<Figure size 432x288 with 1 Axes>"
      ]
     },
     "metadata": {
      "needs_background": "light"
     },
     "output_type": "display_data"
    }
   ],
   "source": [
    "make_countplot('temp')"
   ]
  },
  {
   "cell_type": "markdown",
   "metadata": {},
   "source": [
    "ok , majority of them in 2nd , 3rd & 4th segmentaion , now we can drop it since we'll not use it in training"
   ]
  },
  {
   "cell_type": "code",
   "execution_count": 22,
   "metadata": {},
   "outputs": [],
   "source": [
    "data.drop([\"temp\" ], axis=1, inplace=True)"
   ]
  },
  {
   "cell_type": "markdown",
   "metadata": {},
   "source": [
    "_____\n",
    "\n",
    "how about the original country , let's have a look at it"
   ]
  },
  {
   "cell_type": "code",
   "execution_count": 23,
   "metadata": {},
   "outputs": [
    {
     "data": {
      "image/png": "[encoded data removed]",
      "text/plain": [
       "<Figure size 432x288 with 1 Axes>"
      ]
     },
     "metadata": {
      "needs_background": "light"
     },
     "output_type": "display_data"
    }
   ],
   "source": [
    "make_countplot(\"Geography\")"
   ]
  },
  {
   "cell_type": "markdown",
   "metadata": {},
   "source": [
    "almost 50% of people are from france & the rest are equally divided between spain & germany  , ok will pie chart graph whelp us in something ? "
   ]
  },
  {
   "cell_type": "code",
   "execution_count": 24,
   "metadata": {},
   "outputs": [
    {
     "data": {
      "image/png": "[encoded data removed]",
      "text/plain": [
       "<Figure size 432x288 with 1 Axes>"
      ]
     },
     "metadata": {},
     "output_type": "display_data"
    }
   ],
   "source": [
    "make_pie('Geography')"
   ]
  },
  {
   "cell_type": "markdown",
   "metadata": {},
   "source": [
    "ok it gave us the same idea \n",
    "\n",
    "_____\n",
    "\n",
    "how about the Gender distribution ? "
   ]
  },
  {
   "cell_type": "code",
   "execution_count": 25,
   "metadata": {},
   "outputs": [
    {
     "data": {
      "image/png": "[encoded data removed]",
      "text/plain": [
       "<Figure size 432x288 with 1 Axes>"
      ]
     },
     "metadata": {
      "needs_background": "light"
     },
     "output_type": "display_data"
    }
   ],
   "source": [
    "make_countplot(\"Gender\")"
   ]
  },
  {
   "cell_type": "markdown",
   "metadata": {},
   "source": [
    "not exactly equally divided but they are pretty close to each other \n",
    "\n",
    "____\n",
    "\n",
    "\n",
    "now let's have a look to the Age distribution "
   ]
  },
  {
   "cell_type": "code",
   "execution_count": 26,
   "metadata": {},
   "outputs": [
    {
     "data": {
      "image/png": "[encoded data removed]",
      "text/plain": [
       "<Figure size 432x288 with 1 Axes>"
      ]
     },
     "metadata": {},
     "output_type": "display_data"
    }
   ],
   "source": [
    "make_pie(\"Age\")"
   ]
  },
  {
   "cell_type": "markdown",
   "metadata": {},
   "source": [
    "Oh , since the age unique values are so much , so we'll need to divide them into segmentaions  "
   ]
  },
  {
   "cell_type": "code",
   "execution_count": 27,
   "metadata": {},
   "outputs": [],
   "source": [
    "data['temp'] = divide_feature('Age',10)"
   ]
  },
  {
   "cell_type": "markdown",
   "metadata": {},
   "source": [
    "now we can make the pie again"
   ]
  },
  {
   "cell_type": "code",
   "execution_count": 28,
   "metadata": {},
   "outputs": [
    {
     "data": {
      "image/png": "[encoded data removed]",
      "text/plain": [
       "<Figure size 432x288 with 1 Axes>"
      ]
     },
     "metadata": {},
     "output_type": "display_data"
    }
   ],
   "source": [
    "make_pie('temp')"
   ]
  },
  {
   "cell_type": "markdown",
   "metadata": {},
   "source": [
    "which refer to us that almost 75% of people are from first 2 segmentaions , ok how about kdeplot , for the Age feature itself "
   ]
  },
  {
   "cell_type": "code",
   "execution_count": 29,
   "metadata": {
    "scrolled": true
   },
   "outputs": [
    {
     "data": {
      "image/png": "[encoded data removed]",
      "text/plain": [
       "<Figure size 432x288 with 1 Axes>"
      ]
     },
     "metadata": {
      "needs_background": "light"
     },
     "output_type": "display_data"
    }
   ],
   "source": [
    "make_kdeplot('Age')"
   ]
  },
  {
   "cell_type": "markdown",
   "metadata": {},
   "source": [
    "almost same result , majority of people from 30 to 50 , ok , let's drop the temp feature"
   ]
  },
  {
   "cell_type": "code",
   "execution_count": 30,
   "metadata": {},
   "outputs": [],
   "source": [
    "data.drop([\"temp\" ], axis=1, inplace=True)"
   ]
  },
  {
   "cell_type": "markdown",
   "metadata": {},
   "source": [
    "____\n",
    "\n",
    "now we can have a look to Tenure feature"
   ]
  },
  {
   "cell_type": "code",
   "execution_count": 31,
   "metadata": {},
   "outputs": [
    {
     "data": {
      "image/png": "[encoded data removed]",
      "text/plain": [
       "<Figure size 432x288 with 1 Axes>"
      ]
     },
     "metadata": {
      "needs_background": "light"
     },
     "output_type": "display_data"
    }
   ],
   "source": [
    "make_countplot(\"Tenure\")"
   ]
  },
  {
   "cell_type": "markdown",
   "metadata": {},
   "source": [
    "almost equally distributed  . . \n",
    "\n",
    "how about balane , let's graph it"
   ]
  },
  {
   "cell_type": "code",
   "execution_count": 32,
   "metadata": {},
   "outputs": [
    {
     "data": {
      "image/png": "[encoded data removed]",
      "text/plain": [
       "<Figure size 432x288 with 1 Axes>"
      ]
     },
     "metadata": {
      "needs_background": "light"
     },
     "output_type": "display_data"
    }
   ],
   "source": [
    "make_kdeplot('Balance')"
   ]
  },
  {
   "cell_type": "markdown",
   "metadata": {},
   "source": [
    "majority of people either have zero balance , or between 10 & 15 thousand . \n",
    "\n",
    "to have an accurate look , let's divide it "
   ]
  },
  {
   "cell_type": "code",
   "execution_count": 33,
   "metadata": {},
   "outputs": [
    {
     "name": "stdout",
     "output_type": "stream",
     "text": [
      "Number of Sectors are 25\n"
     ]
    }
   ],
   "source": [
    "data['temp'] = divide_feature('Balance',10000)\n",
    "print('Number of Sectors are {}'.format(len(data['temp'].unique())))"
   ]
  },
  {
   "cell_type": "markdown",
   "metadata": {},
   "source": [
    "25 segmentations are fine , now let's make pie chart about it "
   ]
  },
  {
   "cell_type": "code",
   "execution_count": 34,
   "metadata": {},
   "outputs": [
    {
     "data": {
      "image/png": "[encoded data removed]",
      "text/plain": [
       "<Figure size 432x288 with 1 Axes>"
      ]
     },
     "metadata": {},
     "output_type": "display_data"
    }
   ],
   "source": [
    "make_pie('temp')"
   ]
  },
  {
   "cell_type": "markdown",
   "metadata": {},
   "source": [
    "kinda more clear , ok drop it "
   ]
  },
  {
   "cell_type": "code",
   "execution_count": 35,
   "metadata": {},
   "outputs": [],
   "source": [
    "data.drop([\"temp\" ], axis=1, inplace=True)"
   ]
  },
  {
   "cell_type": "markdown",
   "metadata": {},
   "source": [
    "ow about Nomber of Products ? "
   ]
  },
  {
   "cell_type": "code",
   "execution_count": 36,
   "metadata": {},
   "outputs": [
    {
     "data": {
      "image/png": "[encoded data removed]",
      "text/plain": [
       "<Figure size 432x288 with 1 Axes>"
      ]
     },
     "metadata": {},
     "output_type": "display_data"
    }
   ],
   "source": [
    "make_pie('NumOfProducts')"
   ]
  },
  {
   "cell_type": "markdown",
   "metadata": {},
   "source": [
    "majority of it either 1 or 2 , so this data will affect in a bad way finding any product number 3 or 4 , but there is nothing to do here\n",
    "\n",
    "___\n",
    "\n",
    "ok, how about either he had a card or not"
   ]
  },
  {
   "cell_type": "code",
   "execution_count": 37,
   "metadata": {},
   "outputs": [
    {
     "data": {
      "image/png": "[encoded data removed]",
      "text/plain": [
       "<Figure size 432x288 with 1 Axes>"
      ]
     },
     "metadata": {
      "needs_background": "light"
     },
     "output_type": "display_data"
    }
   ],
   "source": [
    "make_countplot('HasCrCard')"
   ]
  },
  {
   "cell_type": "markdown",
   "metadata": {},
   "source": [
    "great . now if he is an active member or now"
   ]
  },
  {
   "cell_type": "code",
   "execution_count": 38,
   "metadata": {},
   "outputs": [
    {
     "data": {
      "image/png": "[encoded data removed]",
      "text/plain": [
       "<Figure size 432x288 with 1 Axes>"
      ]
     },
     "metadata": {},
     "output_type": "display_data"
    }
   ],
   "source": [
    "make_pie('IsActiveMember')"
   ]
  },
  {
   "cell_type": "markdown",
   "metadata": {},
   "source": [
    "almost equl numbers \n",
    "\n",
    "___\n",
    "\n",
    "\n",
    "how about the estimated salary , let's know its unique values"
   ]
  },
  {
   "cell_type": "code",
   "execution_count": 39,
   "metadata": {},
   "outputs": [
    {
     "data": {
      "text/plain": [
       "9999"
      ]
     },
     "execution_count": 39,
     "metadata": {},
     "output_type": "execute_result"
    }
   ],
   "source": [
    "len(data['EstimatedSalary'].unique())"
   ]
  },
  {
   "cell_type": "markdown",
   "metadata": {},
   "source": [
    "since it's a big amount of unique values , we have to divide it"
   ]
  },
  {
   "cell_type": "code",
   "execution_count": 40,
   "metadata": {},
   "outputs": [
    {
     "name": "stdout",
     "output_type": "stream",
     "text": [
      "Number of Sectors are 21\n"
     ]
    }
   ],
   "source": [
    "data['temp'] = divide_feature('EstimatedSalary',10000)\n",
    "print('Number of Sectors are {}'.format(len(data['temp'].unique())))"
   ]
  },
  {
   "cell_type": "markdown",
   "metadata": {},
   "source": [
    "ok , now we can plot it easily "
   ]
  },
  {
   "cell_type": "code",
   "execution_count": 41,
   "metadata": {},
   "outputs": [
    {
     "data": {
      "image/png": "[encoded data removed]",
      "text/plain": [
       "<Figure size 432x288 with 1 Axes>"
      ]
     },
     "metadata": {},
     "output_type": "display_data"
    }
   ],
   "source": [
    "make_pie('temp')"
   ]
  },
  {
   "cell_type": "markdown",
   "metadata": {},
   "source": [
    "kinda equally distributed , let's have a look to the kdeplot"
   ]
  },
  {
   "cell_type": "code",
   "execution_count": 42,
   "metadata": {},
   "outputs": [
    {
     "data": {
      "image/png": "[encoded data removed]",
      "text/plain": [
       "<Figure size 432x288 with 1 Axes>"
      ]
     },
     "metadata": {
      "needs_background": "light"
     },
     "output_type": "display_data"
    }
   ],
   "source": [
    "make_kdeplot('temp')"
   ]
  },
  {
   "cell_type": "markdown",
   "metadata": {},
   "source": [
    "now let's drop it "
   ]
  },
  {
   "cell_type": "code",
   "execution_count": 43,
   "metadata": {},
   "outputs": [],
   "source": [
    "data.drop([\"temp\"], axis=1, inplace=True)"
   ]
  },
  {
   "cell_type": "markdown",
   "metadata": {},
   "source": [
    "ok , we now finished data processing , so we can move to get dummies step\n",
    "\n",
    "_____\n",
    "\n",
    "\n",
    "# Get Dummies\n",
    "\n",
    "first let's now what categorical features needed to convert it "
   ]
  },
  {
   "cell_type": "code",
   "execution_count": 44,
   "metadata": {},
   "outputs": [
    {
     "data": {
      "text/html": [
       "<div>\n",
       "<style scoped>\n",
       "    .dataframe tbody tr th:only-of-type {\n",
       "        vertical-align: middle;\n",
       "    }\n",
       "\n",
       "    .dataframe tbody tr th {\n",
       "        vertical-align: top;\n",
       "    }\n",
       "\n",
       "    .dataframe thead th {\n",
       "        text-align: right;\n",
       "    }\n",
       "</style>\n",
       "<table border=\"1\" class=\"dataframe\">\n",
       "  <thead>\n",
       "    <tr style=\"text-align: right;\">\n",
       "      <th></th>\n",
       "      <th>CreditScore</th>\n",
       "      <th>Geography</th>\n",
       "      <th>Gender</th>\n",
       "      <th>Age</th>\n",
       "      <th>Tenure</th>\n",
       "      <th>Balance</th>\n",
       "      <th>NumOfProducts</th>\n",
       "      <th>HasCrCard</th>\n",
       "      <th>IsActiveMember</th>\n",
       "      <th>EstimatedSalary</th>\n",
       "      <th>Exited</th>\n",
       "    </tr>\n",
       "  </thead>\n",
       "  <tbody>\n",
       "    <tr>\n",
       "      <th>0</th>\n",
       "      <td>619</td>\n",
       "      <td>France</td>\n",
       "      <td>Female</td>\n",
       "      <td>42</td>\n",
       "      <td>2</td>\n",
       "      <td>0.00</td>\n",
       "      <td>1</td>\n",
       "      <td>1</td>\n",
       "      <td>1</td>\n",
       "      <td>101348.88</td>\n",
       "      <td>1</td>\n",
       "    </tr>\n",
       "    <tr>\n",
       "      <th>1</th>\n",
       "      <td>608</td>\n",
       "      <td>Spain</td>\n",
       "      <td>Female</td>\n",
       "      <td>41</td>\n",
       "      <td>1</td>\n",
       "      <td>83807.86</td>\n",
       "      <td>1</td>\n",
       "      <td>0</td>\n",
       "      <td>1</td>\n",
       "      <td>112542.58</td>\n",
       "      <td>0</td>\n",
       "    </tr>\n",
       "    <tr>\n",
       "      <th>2</th>\n",
       "      <td>502</td>\n",
       "      <td>France</td>\n",
       "      <td>Female</td>\n",
       "      <td>42</td>\n",
       "      <td>8</td>\n",
       "      <td>159660.80</td>\n",
       "      <td>3</td>\n",
       "      <td>1</td>\n",
       "      <td>0</td>\n",
       "      <td>113931.57</td>\n",
       "      <td>1</td>\n",
       "    </tr>\n",
       "    <tr>\n",
       "      <th>3</th>\n",
       "      <td>699</td>\n",
       "      <td>France</td>\n",
       "      <td>Female</td>\n",
       "      <td>39</td>\n",
       "      <td>1</td>\n",
       "      <td>0.00</td>\n",
       "      <td>2</td>\n",
       "      <td>0</td>\n",
       "      <td>0</td>\n",
       "      <td>93826.63</td>\n",
       "      <td>0</td>\n",
       "    </tr>\n",
       "    <tr>\n",
       "      <th>4</th>\n",
       "      <td>850</td>\n",
       "      <td>Spain</td>\n",
       "      <td>Female</td>\n",
       "      <td>43</td>\n",
       "      <td>2</td>\n",
       "      <td>125510.82</td>\n",
       "      <td>1</td>\n",
       "      <td>1</td>\n",
       "      <td>1</td>\n",
       "      <td>79084.10</td>\n",
       "      <td>0</td>\n",
       "    </tr>\n",
       "  </tbody>\n",
       "</table>\n",
       "</div>"
      ],
      "text/plain": [
       "   CreditScore Geography  Gender  Age  Tenure    Balance  NumOfProducts  \\\n",
       "0          619    France  Female   42       2       0.00              1   \n",
       "1          608     Spain  Female   41       1   83807.86              1   \n",
       "2          502    France  Female   42       8  159660.80              3   \n",
       "3          699    France  Female   39       1       0.00              2   \n",
       "4          850     Spain  Female   43       2  125510.82              1   \n",
       "\n",
       "   HasCrCard  IsActiveMember  EstimatedSalary  Exited  \n",
       "0          1               1        101348.88       1  \n",
       "1          0               1        112542.58       0  \n",
       "2          1               0        113931.57       1  \n",
       "3          0               0         93826.63       0  \n",
       "4          1               1         79084.10       0  "
      ]
     },
     "execution_count": 44,
     "metadata": {},
     "output_type": "execute_result"
    }
   ],
   "source": [
    "data.head()"
   ]
  },
  {
   "cell_type": "markdown",
   "metadata": {},
   "source": [
    "____\n",
    "\n",
    "both features Geography & Gender  , so let's convert both of them into new features & frop the original features "
   ]
  },
  {
   "cell_type": "code",
   "execution_count": 45,
   "metadata": {},
   "outputs": [],
   "source": [
    "make_label_encoder('Geography' , 'Geography Code')"
   ]
  },
  {
   "cell_type": "markdown",
   "metadata": {},
   "source": [
    "let's have a look"
   ]
  },
  {
   "cell_type": "code",
   "execution_count": 46,
   "metadata": {},
   "outputs": [
    {
     "data": {
      "text/html": [
       "<div>\n",
       "<style scoped>\n",
       "    .dataframe tbody tr th:only-of-type {\n",
       "        vertical-align: middle;\n",
       "    }\n",
       "\n",
       "    .dataframe tbody tr th {\n",
       "        vertical-align: top;\n",
       "    }\n",
       "\n",
       "    .dataframe thead th {\n",
       "        text-align: right;\n",
       "    }\n",
       "</style>\n",
       "<table border=\"1\" class=\"dataframe\">\n",
       "  <thead>\n",
       "    <tr style=\"text-align: right;\">\n",
       "      <th></th>\n",
       "      <th>CreditScore</th>\n",
       "      <th>Gender</th>\n",
       "      <th>Age</th>\n",
       "      <th>Tenure</th>\n",
       "      <th>Balance</th>\n",
       "      <th>NumOfProducts</th>\n",
       "      <th>HasCrCard</th>\n",
       "      <th>IsActiveMember</th>\n",
       "      <th>EstimatedSalary</th>\n",
       "      <th>Exited</th>\n",
       "      <th>Geography Code</th>\n",
       "    </tr>\n",
       "  </thead>\n",
       "  <tbody>\n",
       "    <tr>\n",
       "      <th>0</th>\n",
       "      <td>619</td>\n",
       "      <td>Female</td>\n",
       "      <td>42</td>\n",
       "      <td>2</td>\n",
       "      <td>0.00</td>\n",
       "      <td>1</td>\n",
       "      <td>1</td>\n",
       "      <td>1</td>\n",
       "      <td>101348.88</td>\n",
       "      <td>1</td>\n",
       "      <td>0</td>\n",
       "    </tr>\n",
       "    <tr>\n",
       "      <th>1</th>\n",
       "      <td>608</td>\n",
       "      <td>Female</td>\n",
       "      <td>41</td>\n",
       "      <td>1</td>\n",
       "      <td>83807.86</td>\n",
       "      <td>1</td>\n",
       "      <td>0</td>\n",
       "      <td>1</td>\n",
       "      <td>112542.58</td>\n",
       "      <td>0</td>\n",
       "      <td>2</td>\n",
       "    </tr>\n",
       "    <tr>\n",
       "      <th>2</th>\n",
       "      <td>502</td>\n",
       "      <td>Female</td>\n",
       "      <td>42</td>\n",
       "      <td>8</td>\n",
       "      <td>159660.80</td>\n",
       "      <td>3</td>\n",
       "      <td>1</td>\n",
       "      <td>0</td>\n",
       "      <td>113931.57</td>\n",
       "      <td>1</td>\n",
       "      <td>0</td>\n",
       "    </tr>\n",
       "    <tr>\n",
       "      <th>3</th>\n",
       "      <td>699</td>\n",
       "      <td>Female</td>\n",
       "      <td>39</td>\n",
       "      <td>1</td>\n",
       "      <td>0.00</td>\n",
       "      <td>2</td>\n",
       "      <td>0</td>\n",
       "      <td>0</td>\n",
       "      <td>93826.63</td>\n",
       "      <td>0</td>\n",
       "      <td>0</td>\n",
       "    </tr>\n",
       "    <tr>\n",
       "      <th>4</th>\n",
       "      <td>850</td>\n",
       "      <td>Female</td>\n",
       "      <td>43</td>\n",
       "      <td>2</td>\n",
       "      <td>125510.82</td>\n",
       "      <td>1</td>\n",
       "      <td>1</td>\n",
       "      <td>1</td>\n",
       "      <td>79084.10</td>\n",
       "      <td>0</td>\n",
       "      <td>2</td>\n",
       "    </tr>\n",
       "  </tbody>\n",
       "</table>\n",
       "</div>"
      ],
      "text/plain": [
       "   CreditScore  Gender  Age  Tenure    Balance  NumOfProducts  HasCrCard  \\\n",
       "0          619  Female   42       2       0.00              1          1   \n",
       "1          608  Female   41       1   83807.86              1          0   \n",
       "2          502  Female   42       8  159660.80              3          1   \n",
       "3          699  Female   39       1       0.00              2          0   \n",
       "4          850  Female   43       2  125510.82              1          1   \n",
       "\n",
       "   IsActiveMember  EstimatedSalary  Exited  Geography Code  \n",
       "0               1        101348.88       1               0  \n",
       "1               1        112542.58       0               2  \n",
       "2               0        113931.57       1               0  \n",
       "3               0         93826.63       0               0  \n",
       "4               1         79084.10       0               2  "
      ]
     },
     "execution_count": 46,
     "metadata": {},
     "output_type": "execute_result"
    }
   ],
   "source": [
    "data.head()"
   ]
  },
  {
   "cell_type": "markdown",
   "metadata": {},
   "source": [
    "now the gender"
   ]
  },
  {
   "cell_type": "code",
   "execution_count": 47,
   "metadata": {},
   "outputs": [
    {
     "data": {
      "text/html": [
       "<div>\n",
       "<style scoped>\n",
       "    .dataframe tbody tr th:only-of-type {\n",
       "        vertical-align: middle;\n",
       "    }\n",
       "\n",
       "    .dataframe tbody tr th {\n",
       "        vertical-align: top;\n",
       "    }\n",
       "\n",
       "    .dataframe thead th {\n",
       "        text-align: right;\n",
       "    }\n",
       "</style>\n",
       "<table border=\"1\" class=\"dataframe\">\n",
       "  <thead>\n",
       "    <tr style=\"text-align: right;\">\n",
       "      <th></th>\n",
       "      <th>CreditScore</th>\n",
       "      <th>Age</th>\n",
       "      <th>Tenure</th>\n",
       "      <th>Balance</th>\n",
       "      <th>NumOfProducts</th>\n",
       "      <th>HasCrCard</th>\n",
       "      <th>IsActiveMember</th>\n",
       "      <th>EstimatedSalary</th>\n",
       "      <th>Exited</th>\n",
       "      <th>Geography Code</th>\n",
       "      <th>Gender Code</th>\n",
       "    </tr>\n",
       "  </thead>\n",
       "  <tbody>\n",
       "    <tr>\n",
       "      <th>0</th>\n",
       "      <td>619</td>\n",
       "      <td>42</td>\n",
       "      <td>2</td>\n",
       "      <td>0.00</td>\n",
       "      <td>1</td>\n",
       "      <td>1</td>\n",
       "      <td>1</td>\n",
       "      <td>101348.88</td>\n",
       "      <td>1</td>\n",
       "      <td>0</td>\n",
       "      <td>0</td>\n",
       "    </tr>\n",
       "    <tr>\n",
       "      <th>1</th>\n",
       "      <td>608</td>\n",
       "      <td>41</td>\n",
       "      <td>1</td>\n",
       "      <td>83807.86</td>\n",
       "      <td>1</td>\n",
       "      <td>0</td>\n",
       "      <td>1</td>\n",
       "      <td>112542.58</td>\n",
       "      <td>0</td>\n",
       "      <td>2</td>\n",
       "      <td>0</td>\n",
       "    </tr>\n",
       "    <tr>\n",
       "      <th>2</th>\n",
       "      <td>502</td>\n",
       "      <td>42</td>\n",
       "      <td>8</td>\n",
       "      <td>159660.80</td>\n",
       "      <td>3</td>\n",
       "      <td>1</td>\n",
       "      <td>0</td>\n",
       "      <td>113931.57</td>\n",
       "      <td>1</td>\n",
       "      <td>0</td>\n",
       "      <td>0</td>\n",
       "    </tr>\n",
       "    <tr>\n",
       "      <th>3</th>\n",
       "      <td>699</td>\n",
       "      <td>39</td>\n",
       "      <td>1</td>\n",
       "      <td>0.00</td>\n",
       "      <td>2</td>\n",
       "      <td>0</td>\n",
       "      <td>0</td>\n",
       "      <td>93826.63</td>\n",
       "      <td>0</td>\n",
       "      <td>0</td>\n",
       "      <td>0</td>\n",
       "    </tr>\n",
       "    <tr>\n",
       "      <th>4</th>\n",
       "      <td>850</td>\n",
       "      <td>43</td>\n",
       "      <td>2</td>\n",
       "      <td>125510.82</td>\n",
       "      <td>1</td>\n",
       "      <td>1</td>\n",
       "      <td>1</td>\n",
       "      <td>79084.10</td>\n",
       "      <td>0</td>\n",
       "      <td>2</td>\n",
       "      <td>0</td>\n",
       "    </tr>\n",
       "  </tbody>\n",
       "</table>\n",
       "</div>"
      ],
      "text/plain": [
       "   CreditScore  Age  Tenure    Balance  NumOfProducts  HasCrCard  \\\n",
       "0          619   42       2       0.00              1          1   \n",
       "1          608   41       1   83807.86              1          0   \n",
       "2          502   42       8  159660.80              3          1   \n",
       "3          699   39       1       0.00              2          0   \n",
       "4          850   43       2  125510.82              1          1   \n",
       "\n",
       "   IsActiveMember  EstimatedSalary  Exited  Geography Code  Gender Code  \n",
       "0               1        101348.88       1               0            0  \n",
       "1               1        112542.58       0               2            0  \n",
       "2               0        113931.57       1               0            0  \n",
       "3               0         93826.63       0               0            0  \n",
       "4               1         79084.10       0               2            0  "
      ]
     },
     "execution_count": 47,
     "metadata": {},
     "output_type": "execute_result"
    }
   ],
   "source": [
    "make_label_encoder('Gender' , 'Gender Code')\n",
    "data.head()"
   ]
  },
  {
   "cell_type": "markdown",
   "metadata": {},
   "source": [
    "\n",
    "_____\n",
    "\n",
    "# Data Standardization\n",
    "\n",
    "ok , lets use the defined function above , to startdardize all features , except the output"
   ]
  },
  {
   "cell_type": "code",
   "execution_count": 48,
   "metadata": {},
   "outputs": [],
   "source": [
    "for column in data.columns  : \n",
    "    if not column  =='Exited' :\n",
    "        make_standardization(column)"
   ]
  },
  {
   "cell_type": "markdown",
   "metadata": {},
   "source": [
    "how it looks now ? "
   ]
  },
  {
   "cell_type": "code",
   "execution_count": 49,
   "metadata": {},
   "outputs": [
    {
     "data": {
      "text/html": [
       "<div>\n",
       "<style scoped>\n",
       "    .dataframe tbody tr th:only-of-type {\n",
       "        vertical-align: middle;\n",
       "    }\n",
       "\n",
       "    .dataframe tbody tr th {\n",
       "        vertical-align: top;\n",
       "    }\n",
       "\n",
       "    .dataframe thead th {\n",
       "        text-align: right;\n",
       "    }\n",
       "</style>\n",
       "<table border=\"1\" class=\"dataframe\">\n",
       "  <thead>\n",
       "    <tr style=\"text-align: right;\">\n",
       "      <th></th>\n",
       "      <th>CreditScore</th>\n",
       "      <th>Age</th>\n",
       "      <th>Tenure</th>\n",
       "      <th>Balance</th>\n",
       "      <th>NumOfProducts</th>\n",
       "      <th>HasCrCard</th>\n",
       "      <th>IsActiveMember</th>\n",
       "      <th>EstimatedSalary</th>\n",
       "      <th>Exited</th>\n",
       "      <th>Geography Code</th>\n",
       "      <th>Gender Code</th>\n",
       "    </tr>\n",
       "  </thead>\n",
       "  <tbody>\n",
       "    <tr>\n",
       "      <th>0</th>\n",
       "      <td>-0.063058</td>\n",
       "      <td>0.041597</td>\n",
       "      <td>-0.30128</td>\n",
       "      <td>-0.304848</td>\n",
       "      <td>-0.176733</td>\n",
       "      <td>0.2945</td>\n",
       "      <td>0.4849</td>\n",
       "      <td>0.006294</td>\n",
       "      <td>1</td>\n",
       "      <td>-0.37315</td>\n",
       "      <td>-0.5457</td>\n",
       "    </tr>\n",
       "    <tr>\n",
       "      <th>1</th>\n",
       "      <td>-0.085058</td>\n",
       "      <td>0.028084</td>\n",
       "      <td>-0.40128</td>\n",
       "      <td>0.029183</td>\n",
       "      <td>-0.176733</td>\n",
       "      <td>-0.7055</td>\n",
       "      <td>0.4849</td>\n",
       "      <td>0.062268</td>\n",
       "      <td>0</td>\n",
       "      <td>0.62685</td>\n",
       "      <td>-0.5457</td>\n",
       "    </tr>\n",
       "    <tr>\n",
       "      <th>2</th>\n",
       "      <td>-0.297058</td>\n",
       "      <td>0.041597</td>\n",
       "      <td>0.29872</td>\n",
       "      <td>0.331509</td>\n",
       "      <td>0.489933</td>\n",
       "      <td>0.2945</td>\n",
       "      <td>-0.5151</td>\n",
       "      <td>0.069213</td>\n",
       "      <td>1</td>\n",
       "      <td>-0.37315</td>\n",
       "      <td>-0.5457</td>\n",
       "    </tr>\n",
       "    <tr>\n",
       "      <th>3</th>\n",
       "      <td>0.096942</td>\n",
       "      <td>0.001057</td>\n",
       "      <td>-0.40128</td>\n",
       "      <td>-0.304848</td>\n",
       "      <td>0.156600</td>\n",
       "      <td>-0.7055</td>\n",
       "      <td>-0.5151</td>\n",
       "      <td>-0.031321</td>\n",
       "      <td>0</td>\n",
       "      <td>-0.37315</td>\n",
       "      <td>-0.5457</td>\n",
       "    </tr>\n",
       "    <tr>\n",
       "      <th>4</th>\n",
       "      <td>0.398942</td>\n",
       "      <td>0.055111</td>\n",
       "      <td>-0.30128</td>\n",
       "      <td>0.195398</td>\n",
       "      <td>-0.176733</td>\n",
       "      <td>0.2945</td>\n",
       "      <td>0.4849</td>\n",
       "      <td>-0.105041</td>\n",
       "      <td>0</td>\n",
       "      <td>0.62685</td>\n",
       "      <td>-0.5457</td>\n",
       "    </tr>\n",
       "  </tbody>\n",
       "</table>\n",
       "</div>"
      ],
      "text/plain": [
       "   CreditScore       Age   Tenure   Balance  NumOfProducts  HasCrCard  \\\n",
       "0    -0.063058  0.041597 -0.30128 -0.304848      -0.176733     0.2945   \n",
       "1    -0.085058  0.028084 -0.40128  0.029183      -0.176733    -0.7055   \n",
       "2    -0.297058  0.041597  0.29872  0.331509       0.489933     0.2945   \n",
       "3     0.096942  0.001057 -0.40128 -0.304848       0.156600    -0.7055   \n",
       "4     0.398942  0.055111 -0.30128  0.195398      -0.176733     0.2945   \n",
       "\n",
       "   IsActiveMember  EstimatedSalary  Exited  Geography Code  Gender Code  \n",
       "0          0.4849         0.006294       1        -0.37315      -0.5457  \n",
       "1          0.4849         0.062268       0         0.62685      -0.5457  \n",
       "2         -0.5151         0.069213       1        -0.37315      -0.5457  \n",
       "3         -0.5151        -0.031321       0        -0.37315      -0.5457  \n",
       "4          0.4849        -0.105041       0         0.62685      -0.5457  "
      ]
     },
     "execution_count": 49,
     "metadata": {},
     "output_type": "execute_result"
    }
   ],
   "source": [
    "data.head()"
   ]
  },
  {
   "cell_type": "markdown",
   "metadata": {},
   "source": [
    "____\n",
    "\n",
    "# Data Splitting\n",
    "\n",
    "now we are ready to define X , y data\n"
   ]
  },
  {
   "cell_type": "code",
   "execution_count": 50,
   "metadata": {},
   "outputs": [],
   "source": [
    "X = data.drop(['Exited'], axis=1, inplace=False)\n",
    "y = data['Exited']"
   ]
  },
  {
   "cell_type": "markdown",
   "metadata": {},
   "source": [
    "now split it using sklearn"
   ]
  },
  {
   "cell_type": "code",
   "execution_count": 51,
   "metadata": {},
   "outputs": [
    {
     "name": "stdout",
     "output_type": "stream",
     "text": [
      "X_train shape is  (6700, 10)\n",
      "X_test shape is  (3300, 10)\n",
      "y_train shape is  (6700,)\n",
      "y_test shape is  (3300,)\n"
     ]
    }
   ],
   "source": [
    "X_train, X_test, y_train, y_test = train_test_split(X, y, test_size=0.33, random_state=44, shuffle =True)\n",
    "\n",
    "print('X_train shape is ' , X_train.shape)\n",
    "print('X_test shape is ' , X_test.shape)\n",
    "print('y_train shape is ' , y_train.shape)\n",
    "print('y_test shape is ' , y_test.shape)"
   ]
  },
  {
   "cell_type": "markdown",
   "metadata": {},
   "source": [
    "_____\n",
    "\n",
    "# Building the Model\n",
    "\n",
    "there are several classifier models , let's start with LogisticRegression"
   ]
  },
  {
   "cell_type": "code",
   "execution_count": 52,
   "metadata": {},
   "outputs": [
    {
     "data": {
      "text/plain": [
       "LogisticRegression(C=1.0, class_weight=None, dual=False, fit_intercept=True,\n",
       "          intercept_scaling=1, max_iter=100, multi_class='warn',\n",
       "          n_jobs=None, penalty='l2', random_state=33, solver='sag',\n",
       "          tol=0.0001, verbose=0, warm_start=False)"
      ]
     },
     "execution_count": 52,
     "metadata": {},
     "output_type": "execute_result"
    }
   ],
   "source": [
    "LogisticRegressionModel = LogisticRegression(penalty='l2',solver='sag',C=1.0,random_state=33)\n",
    "LogisticRegressionModel.fit(X_train, y_train)"
   ]
  },
  {
   "cell_type": "code",
   "execution_count": 53,
   "metadata": {},
   "outputs": [
    {
     "name": "stdout",
     "output_type": "stream",
     "text": [
      "LogisticRegressionModel Train Score is :  0.8102985074626866\n",
      "LogisticRegressionModel Test Score is :  0.8033333333333333\n",
      "LogisticRegressionModel Classes are :  [0 1]\n",
      "LogisticRegressionModel No. of iteratios is :  [29]\n",
      "----------------------------------------------------\n"
     ]
    }
   ],
   "source": [
    "print('LogisticRegressionModel Train Score is : ' , LogisticRegressionModel.score(X_train, y_train))\n",
    "print('LogisticRegressionModel Test Score is : ' , LogisticRegressionModel.score(X_test, y_test))\n",
    "print('LogisticRegressionModel Classes are : ' , LogisticRegressionModel.classes_)\n",
    "print('LogisticRegressionModel No. of iteratios is : ' , LogisticRegressionModel.n_iter_)\n",
    "print('----------------------------------------------------')"
   ]
  },
  {
   "cell_type": "markdown",
   "metadata": {},
   "source": [
    "not very good accuracy , let's see classification report for it"
   ]
  },
  {
   "cell_type": "code",
   "execution_count": 54,
   "metadata": {},
   "outputs": [
    {
     "name": "stdout",
     "output_type": "stream",
     "text": [
      "              precision    recall  f1-score   support\n",
      "\n",
      "           0       0.82      0.97      0.89      2626\n",
      "           1       0.57      0.16      0.25       674\n",
      "\n",
      "   micro avg       0.80      0.80      0.80      3300\n",
      "   macro avg       0.69      0.56      0.57      3300\n",
      "weighted avg       0.77      0.80      0.76      3300\n",
      "\n",
      "************************************\n",
      "Confusion Matrix is : \n",
      " [[2543   83]\n",
      " [ 566  108]]\n",
      "************************************\n"
     ]
    },
    {
     "data": {
      "image/png": "[encoded data removed]",
      "text/plain": [
       "<Figure size 432x288 with 2 Axes>"
      ]
     },
     "metadata": {
      "needs_background": "light"
     },
     "output_type": "display_data"
    }
   ],
   "source": [
    "y_pred = LogisticRegressionModel.predict(X_test)\n",
    "y_pred_prob = LogisticRegressionModel.predict_proba(X_test)\n",
    "make_report()"
   ]
  },
  {
   "cell_type": "markdown",
   "metadata": {},
   "source": [
    "___\n",
    "\n",
    "how about Gaussian NB , will it helps ? "
   ]
  },
  {
   "cell_type": "code",
   "execution_count": 55,
   "metadata": {},
   "outputs": [
    {
     "name": "stdout",
     "output_type": "stream",
     "text": [
      "GaussianNBModel Train Score is :  0.8283582089552238\n",
      "GaussianNBModel Test Score is :  0.8242424242424242\n"
     ]
    }
   ],
   "source": [
    "GaussianNBModel = GaussianNB()\n",
    "GaussianNBModel.fit(X_train, y_train)\n",
    "\n",
    "print('GaussianNBModel Train Score is : ' , GaussianNBModel.score(X_train, y_train))\n",
    "print('GaussianNBModel Test Score is : ' , GaussianNBModel.score(X_test, y_test))"
   ]
  },
  {
   "cell_type": "markdown",
   "metadata": {},
   "source": [
    "a little better , but we might catch something best"
   ]
  },
  {
   "cell_type": "code",
   "execution_count": 56,
   "metadata": {},
   "outputs": [
    {
     "name": "stdout",
     "output_type": "stream",
     "text": [
      "              precision    recall  f1-score   support\n",
      "\n",
      "           0       0.83      0.98      0.90      2626\n",
      "           1       0.72      0.23      0.35       674\n",
      "\n",
      "   micro avg       0.82      0.82      0.82      3300\n",
      "   macro avg       0.77      0.60      0.62      3300\n",
      "weighted avg       0.81      0.82      0.79      3300\n",
      "\n",
      "************************************\n",
      "Confusion Matrix is : \n",
      " [[2564   62]\n",
      " [ 518  156]]\n",
      "************************************\n"
     ]
    },
    {
     "data": {
      "image/png": "[encoded data removed]",
      "text/plain": [
       "<Figure size 432x288 with 2 Axes>"
      ]
     },
     "metadata": {
      "needs_background": "light"
     },
     "output_type": "display_data"
    }
   ],
   "source": [
    "y_pred = GaussianNBModel.predict(X_test)\n",
    "y_pred_prob = GaussianNBModel.predict_proba(X_test)\n",
    "make_report()"
   ]
  },
  {
   "cell_type": "markdown",
   "metadata": {},
   "source": [
    "how about Decision Tree ? "
   ]
  },
  {
   "cell_type": "code",
   "execution_count": 57,
   "metadata": {},
   "outputs": [
    {
     "name": "stdout",
     "output_type": "stream",
     "text": [
      "DecisionTreeClassifierModel Train Score is :  0.8405970149253731\n",
      "DecisionTreeClassifierModel Test Score is :  0.8384848484848485\n",
      "DecisionTreeClassifierModel Classes are :  [0 1]\n",
      "DecisionTreeClassifierModel feature importances are :  [0.         0.52092049 0.         0.02097101 0.27868453 0.\n",
      " 0.17942397 0.         0.         0.        ]\n"
     ]
    }
   ],
   "source": [
    "DecisionTreeClassifierModel = DecisionTreeClassifier(criterion='gini',max_depth=3,random_state=33) #criterion can be entropy\n",
    "DecisionTreeClassifierModel.fit(X_train, y_train)\n",
    "\n",
    "print('DecisionTreeClassifierModel Train Score is : ' , DecisionTreeClassifierModel.score(X_train, y_train))\n",
    "print('DecisionTreeClassifierModel Test Score is : ' , DecisionTreeClassifierModel.score(X_test, y_test))\n",
    "print('DecisionTreeClassifierModel Classes are : ' , DecisionTreeClassifierModel.classes_)\n",
    "print('DecisionTreeClassifierModel feature importances are : ' , DecisionTreeClassifierModel.feature_importances_)"
   ]
  },
  {
   "cell_type": "markdown",
   "metadata": {},
   "source": [
    "a slightly better"
   ]
  },
  {
   "cell_type": "code",
   "execution_count": 58,
   "metadata": {},
   "outputs": [
    {
     "name": "stdout",
     "output_type": "stream",
     "text": [
      "              precision    recall  f1-score   support\n",
      "\n",
      "           0       0.84      0.99      0.91      2626\n",
      "           1       0.88      0.24      0.38       674\n",
      "\n",
      "   micro avg       0.84      0.84      0.84      3300\n",
      "   macro avg       0.86      0.62      0.64      3300\n",
      "weighted avg       0.84      0.84      0.80      3300\n",
      "\n",
      "************************************\n",
      "Confusion Matrix is : \n",
      " [[2603   23]\n",
      " [ 510  164]]\n",
      "************************************\n"
     ]
    },
    {
     "data": {
      "image/png": "[encoded data removed]",
      "text/plain": [
       "<Figure size 432x288 with 2 Axes>"
      ]
     },
     "metadata": {
      "needs_background": "light"
     },
     "output_type": "display_data"
    }
   ],
   "source": [
    "y_pred = DecisionTreeClassifierModel.predict(X_test)\n",
    "y_pred_prob = DecisionTreeClassifierModel.predict_proba(X_test)\n",
    "\n",
    "make_report()"
   ]
  },
  {
   "cell_type": "markdown",
   "metadata": {},
   "source": [
    "___\n",
    "\n",
    "now let's check SVC"
   ]
  },
  {
   "cell_type": "code",
   "execution_count": 59,
   "metadata": {},
   "outputs": [
    {
     "name": "stderr",
     "output_type": "stream",
     "text": [
      "C:\\ProgramData\\Anaconda3\\lib\\site-packages\\sklearn\\svm\\base.py:244: ConvergenceWarning: Solver terminated early (max_iter=1000).  Consider pre-processing your data with StandardScaler or MinMaxScaler.\n",
      "  % self.max_iter, ConvergenceWarning)\n"
     ]
    },
    {
     "name": "stdout",
     "output_type": "stream",
     "text": [
      "SVCModel Train Score is :  0.4337313432835821\n",
      "SVCModel Test Score is :  0.4296969696969697\n"
     ]
    }
   ],
   "source": [
    "SVCModel = SVC(kernel= 'sigmoid',# it can be also linear,poly,sigmoid,precomputed\n",
    "               max_iter=1000,C=0.5,gamma='auto')\n",
    "SVCModel.fit(X_train, y_train)\n",
    "\n",
    "print('SVCModel Train Score is : ' , SVCModel.score(X_train, y_train))\n",
    "print('SVCModel Test Score is : ' , SVCModel.score(X_test, y_test))"
   ]
  },
  {
   "cell_type": "markdown",
   "metadata": {},
   "source": [
    "oh , very far from calling it suitable , how about Random Forest ? "
   ]
  },
  {
   "cell_type": "code",
   "execution_count": 60,
   "metadata": {},
   "outputs": [
    {
     "name": "stdout",
     "output_type": "stream",
     "text": [
      "RandomForestClassifierModel Train Score is :  0.8125373134328359\n",
      "RandomForestClassifierModel Test Score is :  0.8081818181818182\n",
      "RandomForestClassifierModel features importances are :  [1.41053968e-02 4.14482946e-01 3.86692255e-04 7.01571048e-02\n",
      " 3.23818178e-01 1.39429212e-04 1.12940292e-01 1.99785774e-03\n",
      " 2.79182810e-02 3.40538218e-02]\n"
     ]
    }
   ],
   "source": [
    "RandomForestClassifierModel = RandomForestClassifier(criterion = 'gini',n_estimators=1000,max_depth=2,random_state=33) #criterion can be also : entropy \n",
    "RandomForestClassifierModel.fit(X_train, y_train)\n",
    "\n",
    "print('RandomForestClassifierModel Train Score is : ' , RandomForestClassifierModel.score(X_train, y_train))\n",
    "print('RandomForestClassifierModel Test Score is : ' , RandomForestClassifierModel.score(X_test, y_test))\n",
    "print('RandomForestClassifierModel features importances are : ' , RandomForestClassifierModel.feature_importances_)\n"
   ]
  },
  {
   "cell_type": "markdown",
   "metadata": {},
   "source": [
    "\n",
    "____\n",
    "\n",
    "\n",
    "how about Gradient Boosting Classifier, will it be better ? "
   ]
  },
  {
   "cell_type": "code",
   "execution_count": 61,
   "metadata": {},
   "outputs": [
    {
     "name": "stdout",
     "output_type": "stream",
     "text": [
      "GBCModel Train Score is :  0.9028358208955224\n",
      "GBCModel Test Score is :  0.8627272727272727\n"
     ]
    }
   ],
   "source": [
    "GBCModel = GradientBoostingClassifier(n_estimators=100,max_depth=5,random_state=33) \n",
    "GBCModel.fit(X_train, y_train)\n",
    "\n",
    "#Calculating Details\n",
    "print('GBCModel Train Score is : ' , GBCModel.score(X_train, y_train))\n",
    "print('GBCModel Test Score is : ' , GBCModel.score(X_test, y_test))"
   ]
  },
  {
   "cell_type": "markdown",
   "metadata": {},
   "source": [
    "Ok , better accuracy so we can focus in the model , let's check the "
   ]
  },
  {
   "cell_type": "code",
   "execution_count": 62,
   "metadata": {},
   "outputs": [
    {
     "name": "stdout",
     "output_type": "stream",
     "text": [
      "Predicted Value for GBCModel is :  [0 0 1 0 0 0 0 0 1 0]\n",
      "Prediction Probabilities Value for GBCModel is :  [[0.93773831 0.06226169]\n",
      " [0.70985056 0.29014944]\n",
      " [0.37445643 0.62554357]\n",
      " [0.96764178 0.03235822]\n",
      " [0.91805135 0.08194865]\n",
      " [0.93083061 0.06916939]\n",
      " [0.95482623 0.04517377]\n",
      " [0.50292891 0.49707109]\n",
      " [0.05055561 0.94944439]\n",
      " [0.955743   0.044257  ]]\n"
     ]
    }
   ],
   "source": [
    "y_pred = GBCModel.predict(X_test)\n",
    "y_pred_prob = GBCModel.predict_proba(X_test)\n",
    "\n",
    "print('Predicted Value for GBCModel is : ' , y_pred[:10])\n",
    "print('Prediction Probabilities Value for GBCModel is : ' , y_pred_prob[:10])"
   ]
  },
  {
   "cell_type": "code",
   "execution_count": 63,
   "metadata": {},
   "outputs": [
    {
     "name": "stdout",
     "output_type": "stream",
     "text": [
      "              precision    recall  f1-score   support\n",
      "\n",
      "           0       0.88      0.96      0.92      2626\n",
      "           1       0.74      0.50      0.60       674\n",
      "\n",
      "   micro avg       0.86      0.86      0.86      3300\n",
      "   macro avg       0.81      0.73      0.76      3300\n",
      "weighted avg       0.85      0.86      0.85      3300\n",
      "\n",
      "************************************\n",
      "Confusion Matrix is : \n",
      " [[2510  116]\n",
      " [ 337  337]]\n",
      "************************************\n"
     ]
    },
    {
     "data": {
      "image/png": "[encoded data removed]",
      "text/plain": [
       "<Figure size 432x288 with 2 Axes>"
      ]
     },
     "metadata": {
      "needs_background": "light"
     },
     "output_type": "display_data"
    }
   ],
   "source": [
    "make_report()"
   ]
  },
  {
   "cell_type": "markdown",
   "metadata": {},
   "source": [
    "\n",
    "____\n",
    "\n",
    "# Using GridSearch\n",
    "\n",
    "since we see the GBClassifier is the most suitable model , let's use GridSearch tool to look for the best parameters for it"
   ]
  },
  {
   "cell_type": "code",
   "execution_count": 64,
   "metadata": {},
   "outputs": [],
   "source": [
    "SelectedModel = GradientBoostingClassifier()\n",
    "SelectedParameters = {'loss':('deviance', 'exponential'), 'max_depth':[1,2,3,4,5] , 'n_estimators':[50,75,100]}\n",
    "\n",
    "GridSearchModel = GridSearchCV(SelectedModel,SelectedParameters,cv = 5,return_train_score=True)\n",
    "GridSearchModel.fit(X_train, y_train)\n",
    "sorted(GridSearchModel.cv_results_.keys())\n",
    "GridSearchResults = pd.DataFrame(GridSearchModel.cv_results_)[['mean_test_score', 'std_test_score', 'params' , 'rank_test_score' , 'mean_fit_time']]"
   ]
  },
  {
   "cell_type": "markdown",
   "metadata": {},
   "source": [
    "Ok , how about the accuracy ? "
   ]
  },
  {
   "cell_type": "code",
   "execution_count": 65,
   "metadata": {},
   "outputs": [
    {
     "name": "stdout",
     "output_type": "stream",
     "text": [
      "All Results are :\n",
      "     mean_test_score  std_test_score  \\\n",
      "0          0.827015        0.009618   \n",
      "1          0.848806        0.005667   \n",
      "2          0.851343        0.007753   \n",
      "3          0.855224        0.007806   \n",
      "4          0.858358        0.005955   \n",
      "5          0.858507        0.005649   \n",
      "6          0.858358        0.006543   \n",
      "7          0.860746        0.007630   \n",
      "8          0.859851        0.007265   \n",
      "9          0.860597        0.007657   \n",
      "10         0.860597        0.007265   \n",
      "11         0.860597        0.008117   \n",
      "12         0.858806        0.007214   \n",
      "13         0.857313        0.007309   \n",
      "14         0.859851        0.008574   \n",
      "15         0.819851        0.004995   \n",
      "16         0.845224        0.005779   \n",
      "17         0.848358        0.007310   \n",
      "18         0.855373        0.005730   \n",
      "19         0.857463        0.005980   \n",
      "20         0.859403        0.006833   \n",
      "21         0.858060        0.006865   \n",
      "22         0.860597        0.006468   \n",
      "23         0.861343        0.007513   \n",
      "24         0.859403        0.006875   \n",
      "25         0.861194        0.006556   \n",
      "26         0.862090        0.006801   \n",
      "27         0.860448        0.005429   \n",
      "28         0.859254        0.006748   \n",
      "29         0.860448        0.007285   \n",
      "\n",
      "                                               params  rank_test_score  \\\n",
      "0   {'loss': 'deviance', 'max_depth': 1, 'n_estima...               29   \n",
      "1   {'loss': 'deviance', 'max_depth': 1, 'n_estima...               26   \n",
      "2   {'loss': 'deviance', 'max_depth': 1, 'n_estima...               25   \n",
      "3   {'loss': 'deviance', 'max_depth': 2, 'n_estima...               24   \n",
      "4   {'loss': 'deviance', 'max_depth': 2, 'n_estima...               18   \n",
      "5   {'loss': 'deviance', 'max_depth': 2, 'n_estima...               17   \n",
      "6   {'loss': 'deviance', 'max_depth': 3, 'n_estima...               18   \n",
      "7   {'loss': 'deviance', 'max_depth': 3, 'n_estima...                4   \n",
      "8   {'loss': 'deviance', 'max_depth': 3, 'n_estima...               11   \n",
      "9   {'loss': 'deviance', 'max_depth': 4, 'n_estima...                5   \n",
      "10  {'loss': 'deviance', 'max_depth': 4, 'n_estima...                5   \n",
      "11  {'loss': 'deviance', 'max_depth': 4, 'n_estima...                5   \n",
      "12  {'loss': 'deviance', 'max_depth': 5, 'n_estima...               16   \n",
      "13  {'loss': 'deviance', 'max_depth': 5, 'n_estima...               22   \n",
      "14  {'loss': 'deviance', 'max_depth': 5, 'n_estima...               11   \n",
      "15  {'loss': 'exponential', 'max_depth': 1, 'n_est...               30   \n",
      "16  {'loss': 'exponential', 'max_depth': 1, 'n_est...               28   \n",
      "17  {'loss': 'exponential', 'max_depth': 1, 'n_est...               27   \n",
      "18  {'loss': 'exponential', 'max_depth': 2, 'n_est...               23   \n",
      "19  {'loss': 'exponential', 'max_depth': 2, 'n_est...               21   \n",
      "20  {'loss': 'exponential', 'max_depth': 2, 'n_est...               13   \n",
      "21  {'loss': 'exponential', 'max_depth': 3, 'n_est...               20   \n",
      "22  {'loss': 'exponential', 'max_depth': 3, 'n_est...                5   \n",
      "23  {'loss': 'exponential', 'max_depth': 3, 'n_est...                2   \n",
      "24  {'loss': 'exponential', 'max_depth': 4, 'n_est...               13   \n",
      "25  {'loss': 'exponential', 'max_depth': 4, 'n_est...                3   \n",
      "26  {'loss': 'exponential', 'max_depth': 4, 'n_est...                1   \n",
      "27  {'loss': 'exponential', 'max_depth': 5, 'n_est...                9   \n",
      "28  {'loss': 'exponential', 'max_depth': 5, 'n_est...               15   \n",
      "29  {'loss': 'exponential', 'max_depth': 5, 'n_est...                9   \n",
      "\n",
      "    mean_fit_time  \n",
      "0        0.237986  \n",
      "1        0.346183  \n",
      "2        0.500617  \n",
      "3        0.432188  \n",
      "4        0.716826  \n",
      "5        0.902452  \n",
      "6        0.631363  \n",
      "7        0.903219  \n",
      "8        1.157584  \n",
      "9        0.822411  \n",
      "10       1.218724  \n",
      "11       1.580106  \n",
      "12       1.144332  \n",
      "13       1.606505  \n",
      "14       2.040315  \n",
      "15       0.267184  \n",
      "16       0.452572  \n",
      "17       0.728760  \n",
      "18       0.513767  \n",
      "19       0.772643  \n",
      "20       0.818394  \n",
      "21       0.605564  \n",
      "22       1.072976  \n",
      "23       1.597702  \n",
      "24       1.187633  \n",
      "25       2.192245  \n",
      "26       2.805993  \n",
      "27       1.639917  \n",
      "28       2.684184  \n",
      "29       3.191937  \n",
      "Best Score is : 0.862089552238806\n",
      "Best Parameters are : {'loss': 'exponential', 'max_depth': 4, 'n_estimators': 100}\n",
      "Best Estimator is : GradientBoostingClassifier(criterion='friedman_mse', init=None,\n",
      "              learning_rate=0.1, loss='exponential', max_depth=4,\n",
      "              max_features=None, max_leaf_nodes=None,\n",
      "              min_impurity_decrease=0.0, min_impurity_split=None,\n",
      "              min_samples_leaf=1, min_samples_split=2,\n",
      "              min_weight_fraction_leaf=0.0, n_estimators=100,\n",
      "              n_iter_no_change=None, presort='auto', random_state=None,\n",
      "              subsample=1.0, tol=0.0001, validation_fraction=0.1,\n",
      "              verbose=0, warm_start=False)\n"
     ]
    }
   ],
   "source": [
    "print('All Results are :\\n', GridSearchResults )\n",
    "print('Best Score is :', GridSearchModel.best_score_)\n",
    "print('Best Parameters are :', GridSearchModel.best_params_)\n",
    "print('Best Estimator is :', GridSearchModel.best_estimator_)"
   ]
  },
  {
   "cell_type": "markdown",
   "metadata": {},
   "source": [
    "____\n",
    "\n",
    "ok better accuracy , let's use the best model to fit & predict the data"
   ]
  },
  {
   "cell_type": "code",
   "execution_count": 66,
   "metadata": {
    "scrolled": true
   },
   "outputs": [
    {
     "data": {
      "text/plain": [
       "GradientBoostingClassifier(criterion='friedman_mse', init=None,\n",
       "              learning_rate=0.1, loss='exponential', max_depth=4,\n",
       "              max_features=None, max_leaf_nodes=None,\n",
       "              min_impurity_decrease=0.0, min_impurity_split=None,\n",
       "              min_samples_leaf=1, min_samples_split=2,\n",
       "              min_weight_fraction_leaf=0.0, n_estimators=100,\n",
       "              n_iter_no_change=None, presort='auto', random_state=None,\n",
       "              subsample=1.0, tol=0.0001, validation_fraction=0.1,\n",
       "              verbose=0, warm_start=False)"
      ]
     },
     "execution_count": 66,
     "metadata": {},
     "output_type": "execute_result"
    }
   ],
   "source": [
    "GBCModel = GridSearchModel.best_estimator_\n",
    "GBCModel.fit(X_train, y_train)"
   ]
  },
  {
   "cell_type": "markdown",
   "metadata": {},
   "source": [
    "how about the score ? "
   ]
  },
  {
   "cell_type": "code",
   "execution_count": 67,
   "metadata": {},
   "outputs": [
    {
     "name": "stdout",
     "output_type": "stream",
     "text": [
      "GBCModel Train Score is :  0.8801492537313432\n",
      "GBCModel Test Score is :  0.8621212121212121\n",
      "GBCModel features importances are :  [0.04257616 0.3375893  0.01342572 0.10976445 0.24658599 0.00260536\n",
      " 0.10853579 0.08677519 0.0341346  0.01800744]\n"
     ]
    }
   ],
   "source": [
    "print('GBCModel Train Score is : ' , GBCModel.score(X_train, y_train))\n",
    "print('GBCModel Test Score is : ' , GBCModel.score(X_test, y_test))\n",
    "print('GBCModel features importances are : ' , GBCModel.feature_importances_)"
   ]
  },
  {
   "cell_type": "markdown",
   "metadata": {},
   "source": [
    "now let's use it to predict the test value"
   ]
  },
  {
   "cell_type": "code",
   "execution_count": 68,
   "metadata": {},
   "outputs": [
    {
     "name": "stdout",
     "output_type": "stream",
     "text": [
      "Predicted Value for GBCModel is :  [0 0 1 ... 0 0 0]\n",
      "Prediction Probabilities Value for GBCModel is :  [[0.94277593 0.05722407]\n",
      " [0.67999561 0.32000439]\n",
      " [0.41860256 0.58139744]\n",
      " ...\n",
      " [0.85732865 0.14267135]\n",
      " [0.86232302 0.13767698]\n",
      " [0.87745702 0.12254298]]\n"
     ]
    }
   ],
   "source": [
    "y_pred = GBCModel.predict(X_test)\n",
    "y_pred_prob = GBCModel.predict_proba(X_test)\n",
    "\n",
    "print('Predicted Value for GBCModel is : ' , y_pred)\n",
    "print('Prediction Probabilities Value for GBCModel is : ' , y_pred_prob)"
   ]
  },
  {
   "cell_type": "markdown",
   "metadata": {},
   "source": [
    "no we can insert the predicted value to X_test"
   ]
  },
  {
   "cell_type": "code",
   "execution_count": 69,
   "metadata": {},
   "outputs": [],
   "source": [
    "X_test.insert(10,'Predicted Valued',y_pred)"
   ]
  },
  {
   "cell_type": "markdown",
   "metadata": {},
   "source": [
    "& see the final Result"
   ]
  },
  {
   "cell_type": "code",
   "execution_count": 70,
   "metadata": {},
   "outputs": [
    {
     "data": {
      "text/html": [
       "<div>\n",
       "<style scoped>\n",
       "    .dataframe tbody tr th:only-of-type {\n",
       "        vertical-align: middle;\n",
       "    }\n",
       "\n",
       "    .dataframe tbody tr th {\n",
       "        vertical-align: top;\n",
       "    }\n",
       "\n",
       "    .dataframe thead th {\n",
       "        text-align: right;\n",
       "    }\n",
       "</style>\n",
       "<table border=\"1\" class=\"dataframe\">\n",
       "  <thead>\n",
       "    <tr style=\"text-align: right;\">\n",
       "      <th></th>\n",
       "      <th>CreditScore</th>\n",
       "      <th>Age</th>\n",
       "      <th>Tenure</th>\n",
       "      <th>Balance</th>\n",
       "      <th>NumOfProducts</th>\n",
       "      <th>HasCrCard</th>\n",
       "      <th>IsActiveMember</th>\n",
       "      <th>EstimatedSalary</th>\n",
       "      <th>Geography Code</th>\n",
       "      <th>Gender Code</th>\n",
       "      <th>Predicted Valued</th>\n",
       "    </tr>\n",
       "  </thead>\n",
       "  <tbody>\n",
       "    <tr>\n",
       "      <th>3472</th>\n",
       "      <td>-0.113058</td>\n",
       "      <td>0.014570</td>\n",
       "      <td>0.39872</td>\n",
       "      <td>0.183067</td>\n",
       "      <td>0.156600</td>\n",
       "      <td>-0.7055</td>\n",
       "      <td>0.4849</td>\n",
       "      <td>0.454006</td>\n",
       "      <td>-0.37315</td>\n",
       "      <td>0.4543</td>\n",
       "      <td>0</td>\n",
       "    </tr>\n",
       "    <tr>\n",
       "      <th>5095</th>\n",
       "      <td>0.108942</td>\n",
       "      <td>0.095651</td>\n",
       "      <td>-0.00128</td>\n",
       "      <td>0.051332</td>\n",
       "      <td>-0.176733</td>\n",
       "      <td>-0.7055</td>\n",
       "      <td>0.4849</td>\n",
       "      <td>0.195378</td>\n",
       "      <td>0.62685</td>\n",
       "      <td>-0.5457</td>\n",
       "      <td>0</td>\n",
       "    </tr>\n",
       "    <tr>\n",
       "      <th>9504</th>\n",
       "      <td>-0.181058</td>\n",
       "      <td>0.068624</td>\n",
       "      <td>-0.00128</td>\n",
       "      <td>0.266080</td>\n",
       "      <td>-0.176733</td>\n",
       "      <td>0.2945</td>\n",
       "      <td>-0.5151</td>\n",
       "      <td>-0.007146</td>\n",
       "      <td>-0.37315</td>\n",
       "      <td>-0.5457</td>\n",
       "      <td>1</td>\n",
       "    </tr>\n",
       "    <tr>\n",
       "      <th>5786</th>\n",
       "      <td>-0.125058</td>\n",
       "      <td>0.014570</td>\n",
       "      <td>-0.00128</td>\n",
       "      <td>-0.304848</td>\n",
       "      <td>0.156600</td>\n",
       "      <td>-0.7055</td>\n",
       "      <td>-0.5151</td>\n",
       "      <td>0.003188</td>\n",
       "      <td>-0.37315</td>\n",
       "      <td>0.4543</td>\n",
       "      <td>0</td>\n",
       "    </tr>\n",
       "    <tr>\n",
       "      <th>8758</th>\n",
       "      <td>0.024942</td>\n",
       "      <td>-0.066511</td>\n",
       "      <td>0.49872</td>\n",
       "      <td>-0.304848</td>\n",
       "      <td>-0.176733</td>\n",
       "      <td>0.2945</td>\n",
       "      <td>0.4849</td>\n",
       "      <td>0.069974</td>\n",
       "      <td>-0.37315</td>\n",
       "      <td>0.4543</td>\n",
       "      <td>0</td>\n",
       "    </tr>\n",
       "    <tr>\n",
       "      <th>7207</th>\n",
       "      <td>-0.261058</td>\n",
       "      <td>-0.120565</td>\n",
       "      <td>-0.10128</td>\n",
       "      <td>0.273964</td>\n",
       "      <td>0.156600</td>\n",
       "      <td>-0.7055</td>\n",
       "      <td>-0.5151</td>\n",
       "      <td>0.225375</td>\n",
       "      <td>0.62685</td>\n",
       "      <td>-0.5457</td>\n",
       "      <td>0</td>\n",
       "    </tr>\n",
       "    <tr>\n",
       "      <th>1562</th>\n",
       "      <td>0.086942</td>\n",
       "      <td>-0.107051</td>\n",
       "      <td>0.09872</td>\n",
       "      <td>0.129801</td>\n",
       "      <td>0.156600</td>\n",
       "      <td>0.2945</td>\n",
       "      <td>0.4849</td>\n",
       "      <td>-0.403245</td>\n",
       "      <td>0.12685</td>\n",
       "      <td>0.4543</td>\n",
       "      <td>0</td>\n",
       "    </tr>\n",
       "    <tr>\n",
       "      <th>3578</th>\n",
       "      <td>0.106942</td>\n",
       "      <td>0.001057</td>\n",
       "      <td>-0.40128</td>\n",
       "      <td>0.191929</td>\n",
       "      <td>-0.176733</td>\n",
       "      <td>0.2945</td>\n",
       "      <td>-0.5151</td>\n",
       "      <td>0.082112</td>\n",
       "      <td>0.12685</td>\n",
       "      <td>-0.5457</td>\n",
       "      <td>1</td>\n",
       "    </tr>\n",
       "    <tr>\n",
       "      <th>2546</th>\n",
       "      <td>0.018942</td>\n",
       "      <td>0.149705</td>\n",
       "      <td>-0.40128</td>\n",
       "      <td>-0.304848</td>\n",
       "      <td>0.489933</td>\n",
       "      <td>0.2945</td>\n",
       "      <td>0.4849</td>\n",
       "      <td>0.458838</td>\n",
       "      <td>-0.37315</td>\n",
       "      <td>0.4543</td>\n",
       "      <td>1</td>\n",
       "    </tr>\n",
       "    <tr>\n",
       "      <th>6163</th>\n",
       "      <td>-0.325058</td>\n",
       "      <td>-0.147592</td>\n",
       "      <td>0.19872</td>\n",
       "      <td>0.250143</td>\n",
       "      <td>0.156600</td>\n",
       "      <td>0.2945</td>\n",
       "      <td>-0.5151</td>\n",
       "      <td>0.033549</td>\n",
       "      <td>0.12685</td>\n",
       "      <td>-0.5457</td>\n",
       "      <td>0</td>\n",
       "    </tr>\n",
       "    <tr>\n",
       "      <th>5164</th>\n",
       "      <td>-0.017058</td>\n",
       "      <td>-0.039484</td>\n",
       "      <td>-0.10128</td>\n",
       "      <td>-0.304848</td>\n",
       "      <td>0.156600</td>\n",
       "      <td>0.2945</td>\n",
       "      <td>0.4849</td>\n",
       "      <td>0.475719</td>\n",
       "      <td>-0.37315</td>\n",
       "      <td>0.4543</td>\n",
       "      <td>0</td>\n",
       "    </tr>\n",
       "    <tr>\n",
       "      <th>3647</th>\n",
       "      <td>0.156942</td>\n",
       "      <td>0.379435</td>\n",
       "      <td>-0.30128</td>\n",
       "      <td>0.070618</td>\n",
       "      <td>-0.176733</td>\n",
       "      <td>-0.7055</td>\n",
       "      <td>0.4849</td>\n",
       "      <td>0.011505</td>\n",
       "      <td>-0.37315</td>\n",
       "      <td>0.4543</td>\n",
       "      <td>0</td>\n",
       "    </tr>\n",
       "    <tr>\n",
       "      <th>7946</th>\n",
       "      <td>-0.355058</td>\n",
       "      <td>-0.052997</td>\n",
       "      <td>0.09872</td>\n",
       "      <td>-0.027376</td>\n",
       "      <td>-0.176733</td>\n",
       "      <td>0.2945</td>\n",
       "      <td>-0.5151</td>\n",
       "      <td>0.216298</td>\n",
       "      <td>-0.37315</td>\n",
       "      <td>-0.5457</td>\n",
       "      <td>0</td>\n",
       "    </tr>\n",
       "    <tr>\n",
       "      <th>5633</th>\n",
       "      <td>0.340942</td>\n",
       "      <td>-0.147592</td>\n",
       "      <td>-0.30128</td>\n",
       "      <td>-0.304848</td>\n",
       "      <td>0.156600</td>\n",
       "      <td>0.2945</td>\n",
       "      <td>-0.5151</td>\n",
       "      <td>-0.270114</td>\n",
       "      <td>-0.37315</td>\n",
       "      <td>0.4543</td>\n",
       "      <td>0</td>\n",
       "    </tr>\n",
       "    <tr>\n",
       "      <th>7971</th>\n",
       "      <td>-0.035058</td>\n",
       "      <td>0.041597</td>\n",
       "      <td>0.49872</td>\n",
       "      <td>-0.304848</td>\n",
       "      <td>-0.176733</td>\n",
       "      <td>-0.7055</td>\n",
       "      <td>0.4849</td>\n",
       "      <td>-0.103420</td>\n",
       "      <td>0.62685</td>\n",
       "      <td>0.4543</td>\n",
       "      <td>0</td>\n",
       "    </tr>\n",
       "    <tr>\n",
       "      <th>926</th>\n",
       "      <td>0.174942</td>\n",
       "      <td>-0.052997</td>\n",
       "      <td>-0.20128</td>\n",
       "      <td>-0.304848</td>\n",
       "      <td>-0.176733</td>\n",
       "      <td>0.2945</td>\n",
       "      <td>0.4849</td>\n",
       "      <td>-0.422238</td>\n",
       "      <td>0.62685</td>\n",
       "      <td>0.4543</td>\n",
       "      <td>0</td>\n",
       "    </tr>\n",
       "    <tr>\n",
       "      <th>3314</th>\n",
       "      <td>-0.085058</td>\n",
       "      <td>0.325381</td>\n",
       "      <td>-0.20128</td>\n",
       "      <td>0.251273</td>\n",
       "      <td>0.156600</td>\n",
       "      <td>0.2945</td>\n",
       "      <td>0.4849</td>\n",
       "      <td>0.378066</td>\n",
       "      <td>0.62685</td>\n",
       "      <td>-0.5457</td>\n",
       "      <td>0</td>\n",
       "    </tr>\n",
       "    <tr>\n",
       "      <th>1576</th>\n",
       "      <td>-0.075058</td>\n",
       "      <td>0.014570</td>\n",
       "      <td>0.39872</td>\n",
       "      <td>0.076280</td>\n",
       "      <td>0.156600</td>\n",
       "      <td>0.2945</td>\n",
       "      <td>0.4849</td>\n",
       "      <td>-0.196938</td>\n",
       "      <td>-0.37315</td>\n",
       "      <td>-0.5457</td>\n",
       "      <td>0</td>\n",
       "    </tr>\n",
       "    <tr>\n",
       "      <th>5808</th>\n",
       "      <td>0.066942</td>\n",
       "      <td>0.284841</td>\n",
       "      <td>-0.30128</td>\n",
       "      <td>0.159737</td>\n",
       "      <td>-0.176733</td>\n",
       "      <td>0.2945</td>\n",
       "      <td>-0.5151</td>\n",
       "      <td>0.100847</td>\n",
       "      <td>-0.37315</td>\n",
       "      <td>0.4543</td>\n",
       "      <td>1</td>\n",
       "    </tr>\n",
       "    <tr>\n",
       "      <th>6946</th>\n",
       "      <td>-0.465058</td>\n",
       "      <td>-0.039484</td>\n",
       "      <td>0.19872</td>\n",
       "      <td>0.054441</td>\n",
       "      <td>-0.176733</td>\n",
       "      <td>0.2945</td>\n",
       "      <td>0.4849</td>\n",
       "      <td>-0.154676</td>\n",
       "      <td>-0.37315</td>\n",
       "      <td>0.4543</td>\n",
       "      <td>0</td>\n",
       "    </tr>\n",
       "    <tr>\n",
       "      <th>3453</th>\n",
       "      <td>-0.063058</td>\n",
       "      <td>0.014570</td>\n",
       "      <td>0.39872</td>\n",
       "      <td>0.108085</td>\n",
       "      <td>0.156600</td>\n",
       "      <td>-0.7055</td>\n",
       "      <td>-0.5151</td>\n",
       "      <td>0.204304</td>\n",
       "      <td>0.12685</td>\n",
       "      <td>0.4543</td>\n",
       "      <td>0</td>\n",
       "    </tr>\n",
       "    <tr>\n",
       "      <th>463</th>\n",
       "      <td>0.022942</td>\n",
       "      <td>-0.093538</td>\n",
       "      <td>-0.10128</td>\n",
       "      <td>0.229035</td>\n",
       "      <td>-0.176733</td>\n",
       "      <td>0.2945</td>\n",
       "      <td>0.4849</td>\n",
       "      <td>-0.256847</td>\n",
       "      <td>-0.37315</td>\n",
       "      <td>-0.5457</td>\n",
       "      <td>0</td>\n",
       "    </tr>\n",
       "    <tr>\n",
       "      <th>4418</th>\n",
       "      <td>0.062942</td>\n",
       "      <td>0.109165</td>\n",
       "      <td>0.49872</td>\n",
       "      <td>0.229361</td>\n",
       "      <td>-0.176733</td>\n",
       "      <td>0.2945</td>\n",
       "      <td>-0.5151</td>\n",
       "      <td>0.221025</td>\n",
       "      <td>0.62685</td>\n",
       "      <td>-0.5457</td>\n",
       "      <td>1</td>\n",
       "    </tr>\n",
       "    <tr>\n",
       "      <th>88</th>\n",
       "      <td>-0.009058</td>\n",
       "      <td>0.095651</td>\n",
       "      <td>-0.10128</td>\n",
       "      <td>-0.304848</td>\n",
       "      <td>0.489933</td>\n",
       "      <td>0.2945</td>\n",
       "      <td>-0.5151</td>\n",
       "      <td>-0.034197</td>\n",
       "      <td>-0.37315</td>\n",
       "      <td>-0.5457</td>\n",
       "      <td>1</td>\n",
       "    </tr>\n",
       "    <tr>\n",
       "      <th>4264</th>\n",
       "      <td>0.032942</td>\n",
       "      <td>0.230786</td>\n",
       "      <td>0.29872</td>\n",
       "      <td>0.243040</td>\n",
       "      <td>-0.176733</td>\n",
       "      <td>0.2945</td>\n",
       "      <td>-0.5151</td>\n",
       "      <td>0.153797</td>\n",
       "      <td>0.12685</td>\n",
       "      <td>-0.5457</td>\n",
       "      <td>1</td>\n",
       "    </tr>\n",
       "    <tr>\n",
       "      <th>7304</th>\n",
       "      <td>0.056942</td>\n",
       "      <td>0.257814</td>\n",
       "      <td>0.29872</td>\n",
       "      <td>0.196752</td>\n",
       "      <td>0.156600</td>\n",
       "      <td>0.2945</td>\n",
       "      <td>0.4849</td>\n",
       "      <td>-0.065417</td>\n",
       "      <td>0.12685</td>\n",
       "      <td>0.4543</td>\n",
       "      <td>0</td>\n",
       "    </tr>\n",
       "    <tr>\n",
       "      <th>9187</th>\n",
       "      <td>-0.099058</td>\n",
       "      <td>-0.012457</td>\n",
       "      <td>-0.10128</td>\n",
       "      <td>-0.065652</td>\n",
       "      <td>-0.176733</td>\n",
       "      <td>0.2945</td>\n",
       "      <td>0.4849</td>\n",
       "      <td>-0.310381</td>\n",
       "      <td>-0.37315</td>\n",
       "      <td>0.4543</td>\n",
       "      <td>0</td>\n",
       "    </tr>\n",
       "    <tr>\n",
       "      <th>5292</th>\n",
       "      <td>0.188942</td>\n",
       "      <td>-0.147592</td>\n",
       "      <td>0.09872</td>\n",
       "      <td>-0.304848</td>\n",
       "      <td>0.156600</td>\n",
       "      <td>0.2945</td>\n",
       "      <td>-0.5151</td>\n",
       "      <td>0.271521</td>\n",
       "      <td>-0.37315</td>\n",
       "      <td>-0.5457</td>\n",
       "      <td>0</td>\n",
       "    </tr>\n",
       "    <tr>\n",
       "      <th>9935</th>\n",
       "      <td>0.168942</td>\n",
       "      <td>-0.147592</td>\n",
       "      <td>-0.00128</td>\n",
       "      <td>0.334671</td>\n",
       "      <td>0.156600</td>\n",
       "      <td>-0.7055</td>\n",
       "      <td>0.4849</td>\n",
       "      <td>0.074342</td>\n",
       "      <td>0.12685</td>\n",
       "      <td>0.4543</td>\n",
       "      <td>0</td>\n",
       "    </tr>\n",
       "    <tr>\n",
       "      <th>2543</th>\n",
       "      <td>0.398942</td>\n",
       "      <td>-0.201646</td>\n",
       "      <td>-0.40128</td>\n",
       "      <td>-0.304848</td>\n",
       "      <td>0.156600</td>\n",
       "      <td>-0.7055</td>\n",
       "      <td>0.4849</td>\n",
       "      <td>-0.155202</td>\n",
       "      <td>0.62685</td>\n",
       "      <td>-0.5457</td>\n",
       "      <td>0</td>\n",
       "    </tr>\n",
       "  </tbody>\n",
       "</table>\n",
       "</div>"
      ],
      "text/plain": [
       "      CreditScore       Age   Tenure   Balance  NumOfProducts  HasCrCard  \\\n",
       "3472    -0.113058  0.014570  0.39872  0.183067       0.156600    -0.7055   \n",
       "5095     0.108942  0.095651 -0.00128  0.051332      -0.176733    -0.7055   \n",
       "9504    -0.181058  0.068624 -0.00128  0.266080      -0.176733     0.2945   \n",
       "5786    -0.125058  0.014570 -0.00128 -0.304848       0.156600    -0.7055   \n",
       "8758     0.024942 -0.066511  0.49872 -0.304848      -0.176733     0.2945   \n",
       "7207    -0.261058 -0.120565 -0.10128  0.273964       0.156600    -0.7055   \n",
       "1562     0.086942 -0.107051  0.09872  0.129801       0.156600     0.2945   \n",
       "3578     0.106942  0.001057 -0.40128  0.191929      -0.176733     0.2945   \n",
       "2546     0.018942  0.149705 -0.40128 -0.304848       0.489933     0.2945   \n",
       "6163    -0.325058 -0.147592  0.19872  0.250143       0.156600     0.2945   \n",
       "5164    -0.017058 -0.039484 -0.10128 -0.304848       0.156600     0.2945   \n",
       "3647     0.156942  0.379435 -0.30128  0.070618      -0.176733    -0.7055   \n",
       "7946    -0.355058 -0.052997  0.09872 -0.027376      -0.176733     0.2945   \n",
       "5633     0.340942 -0.147592 -0.30128 -0.304848       0.156600     0.2945   \n",
       "7971    -0.035058  0.041597  0.49872 -0.304848      -0.176733    -0.7055   \n",
       "926      0.174942 -0.052997 -0.20128 -0.304848      -0.176733     0.2945   \n",
       "3314    -0.085058  0.325381 -0.20128  0.251273       0.156600     0.2945   \n",
       "1576    -0.075058  0.014570  0.39872  0.076280       0.156600     0.2945   \n",
       "5808     0.066942  0.284841 -0.30128  0.159737      -0.176733     0.2945   \n",
       "6946    -0.465058 -0.039484  0.19872  0.054441      -0.176733     0.2945   \n",
       "3453    -0.063058  0.014570  0.39872  0.108085       0.156600    -0.7055   \n",
       "463      0.022942 -0.093538 -0.10128  0.229035      -0.176733     0.2945   \n",
       "4418     0.062942  0.109165  0.49872  0.229361      -0.176733     0.2945   \n",
       "88      -0.009058  0.095651 -0.10128 -0.304848       0.489933     0.2945   \n",
       "4264     0.032942  0.230786  0.29872  0.243040      -0.176733     0.2945   \n",
       "7304     0.056942  0.257814  0.29872  0.196752       0.156600     0.2945   \n",
       "9187    -0.099058 -0.012457 -0.10128 -0.065652      -0.176733     0.2945   \n",
       "5292     0.188942 -0.147592  0.09872 -0.304848       0.156600     0.2945   \n",
       "9935     0.168942 -0.147592 -0.00128  0.334671       0.156600    -0.7055   \n",
       "2543     0.398942 -0.201646 -0.40128 -0.304848       0.156600    -0.7055   \n",
       "\n",
       "      IsActiveMember  EstimatedSalary  Geography Code  Gender Code  \\\n",
       "3472          0.4849         0.454006        -0.37315       0.4543   \n",
       "5095          0.4849         0.195378         0.62685      -0.5457   \n",
       "9504         -0.5151        -0.007146        -0.37315      -0.5457   \n",
       "5786         -0.5151         0.003188        -0.37315       0.4543   \n",
       "8758          0.4849         0.069974        -0.37315       0.4543   \n",
       "7207         -0.5151         0.225375         0.62685      -0.5457   \n",
       "1562          0.4849        -0.403245         0.12685       0.4543   \n",
       "3578         -0.5151         0.082112         0.12685      -0.5457   \n",
       "2546          0.4849         0.458838        -0.37315       0.4543   \n",
       "6163         -0.5151         0.033549         0.12685      -0.5457   \n",
       "5164          0.4849         0.475719        -0.37315       0.4543   \n",
       "3647          0.4849         0.011505        -0.37315       0.4543   \n",
       "7946         -0.5151         0.216298        -0.37315      -0.5457   \n",
       "5633         -0.5151        -0.270114        -0.37315       0.4543   \n",
       "7971          0.4849        -0.103420         0.62685       0.4543   \n",
       "926           0.4849        -0.422238         0.62685       0.4543   \n",
       "3314          0.4849         0.378066         0.62685      -0.5457   \n",
       "1576          0.4849        -0.196938        -0.37315      -0.5457   \n",
       "5808         -0.5151         0.100847        -0.37315       0.4543   \n",
       "6946          0.4849        -0.154676        -0.37315       0.4543   \n",
       "3453         -0.5151         0.204304         0.12685       0.4543   \n",
       "463           0.4849        -0.256847        -0.37315      -0.5457   \n",
       "4418         -0.5151         0.221025         0.62685      -0.5457   \n",
       "88           -0.5151        -0.034197        -0.37315      -0.5457   \n",
       "4264         -0.5151         0.153797         0.12685      -0.5457   \n",
       "7304          0.4849        -0.065417         0.12685       0.4543   \n",
       "9187          0.4849        -0.310381        -0.37315       0.4543   \n",
       "5292         -0.5151         0.271521        -0.37315      -0.5457   \n",
       "9935          0.4849         0.074342         0.12685       0.4543   \n",
       "2543          0.4849        -0.155202         0.62685      -0.5457   \n",
       "\n",
       "      Predicted Valued  \n",
       "3472                 0  \n",
       "5095                 0  \n",
       "9504                 1  \n",
       "5786                 0  \n",
       "8758                 0  \n",
       "7207                 0  \n",
       "1562                 0  \n",
       "3578                 1  \n",
       "2546                 1  \n",
       "6163                 0  \n",
       "5164                 0  \n",
       "3647                 0  \n",
       "7946                 0  \n",
       "5633                 0  \n",
       "7971                 0  \n",
       "926                  0  \n",
       "3314                 0  \n",
       "1576                 0  \n",
       "5808                 1  \n",
       "6946                 0  \n",
       "3453                 0  \n",
       "463                  0  \n",
       "4418                 1  \n",
       "88                   1  \n",
       "4264                 1  \n",
       "7304                 0  \n",
       "9187                 0  \n",
       "5292                 0  \n",
       "9935                 0  \n",
       "2543                 0  "
      ]
     },
     "execution_count": 70,
     "metadata": {},
     "output_type": "execute_result"
    }
   ],
   "source": [
    "X_test.head(30)"
   ]
  },
  {
   "cell_type": "code",
   "execution_count": null,
   "metadata": {},
   "outputs": [],
   "source": []
  }
 ],
 "metadata": {
  "kernelspec": {
   "display_name": "Python 3",
   "language": "python",
   "name": "python3"
  },
  "language_info": {
   "codemirror_mode": {
    "name": "ipython",
    "version": 3
   },
   "file_extension": ".py",
   "mimetype": "text/x-python",
   "name": "python",
   "nbconvert_exporter": "python",
   "pygments_lexer": "ipython3",
   "version": "3.7.3"
  }
 },
 "nbformat": 4,
 "nbformat_minor": 2
}
